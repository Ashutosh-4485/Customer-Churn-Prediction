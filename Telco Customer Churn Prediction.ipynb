{
 "cells": [
  {
   "cell_type": "code",
   "execution_count": 1,
   "id": "9a3c3517",
   "metadata": {},
   "outputs": [],
   "source": [
    "import numpy as np\n",
    "import pandas as pd"
   ]
  },
  {
   "cell_type": "markdown",
   "id": "c9417cc8",
   "metadata": {},
   "source": [
    "About Dataset\n",
    "\n",
    "The dataset is Telco Customer Churn dataset from kaggle\n",
    "\n",
    "\"Predict behavior to retain customers. You can analyze all relevant customer data and develop focused customer retention programs.\" \n",
    "[IBM Sample Data Sets]\n",
    "\n",
    "Each row represents a customer, each column contains customer’s attributes described on the column Metadata.\n",
    "\n",
    "The data set includes information about:\n",
    "\n",
    "1. Customers who left within the last month – the column is called Churn\n",
    "2. Services that each customer has signed up for – phone, multiple lines, internet, online security, online backup, \n",
    "   device protection, tech support, and streaming TV and movies\n",
    "3. Customer account information – how long they’ve been a customer, contract, payment method, paperless billing,\n",
    "   monthly charges, and total charges\n",
    "4. Demographic info about customers – gender, age range, and if they have partners and dependents"
   ]
  },
  {
   "cell_type": "code",
   "execution_count": 2,
   "id": "c5fedc9c",
   "metadata": {},
   "outputs": [],
   "source": [
    "df=pd.read_csv(\"Customer-Churn.csv\")"
   ]
  },
  {
   "cell_type": "code",
   "execution_count": 3,
   "id": "2725ae88",
   "metadata": {},
   "outputs": [
    {
     "data": {
      "text/html": [
       "<div>\n",
       "<style scoped>\n",
       "    .dataframe tbody tr th:only-of-type {\n",
       "        vertical-align: middle;\n",
       "    }\n",
       "\n",
       "    .dataframe tbody tr th {\n",
       "        vertical-align: top;\n",
       "    }\n",
       "\n",
       "    .dataframe thead th {\n",
       "        text-align: right;\n",
       "    }\n",
       "</style>\n",
       "<table border=\"1\" class=\"dataframe\">\n",
       "  <thead>\n",
       "    <tr style=\"text-align: right;\">\n",
       "      <th></th>\n",
       "      <th>customerID</th>\n",
       "      <th>gender</th>\n",
       "      <th>SeniorCitizen</th>\n",
       "      <th>Partner</th>\n",
       "      <th>Dependents</th>\n",
       "      <th>tenure</th>\n",
       "      <th>PhoneService</th>\n",
       "      <th>MultipleLines</th>\n",
       "      <th>InternetService</th>\n",
       "      <th>OnlineSecurity</th>\n",
       "      <th>...</th>\n",
       "      <th>DeviceProtection</th>\n",
       "      <th>TechSupport</th>\n",
       "      <th>StreamingTV</th>\n",
       "      <th>StreamingMovies</th>\n",
       "      <th>Contract</th>\n",
       "      <th>PaperlessBilling</th>\n",
       "      <th>PaymentMethod</th>\n",
       "      <th>MonthlyCharges</th>\n",
       "      <th>TotalCharges</th>\n",
       "      <th>Churn</th>\n",
       "    </tr>\n",
       "  </thead>\n",
       "  <tbody>\n",
       "    <tr>\n",
       "      <th>2812</th>\n",
       "      <td>3763-GCZHZ</td>\n",
       "      <td>Male</td>\n",
       "      <td>0</td>\n",
       "      <td>Yes</td>\n",
       "      <td>No</td>\n",
       "      <td>66</td>\n",
       "      <td>Yes</td>\n",
       "      <td>Yes</td>\n",
       "      <td>Fiber optic</td>\n",
       "      <td>No</td>\n",
       "      <td>...</td>\n",
       "      <td>No</td>\n",
       "      <td>Yes</td>\n",
       "      <td>Yes</td>\n",
       "      <td>Yes</td>\n",
       "      <td>One year</td>\n",
       "      <td>Yes</td>\n",
       "      <td>Electronic check</td>\n",
       "      <td>104.05</td>\n",
       "      <td>6890</td>\n",
       "      <td>Yes</td>\n",
       "    </tr>\n",
       "    <tr>\n",
       "      <th>6086</th>\n",
       "      <td>0916-KNFAJ</td>\n",
       "      <td>Male</td>\n",
       "      <td>0</td>\n",
       "      <td>Yes</td>\n",
       "      <td>No</td>\n",
       "      <td>61</td>\n",
       "      <td>Yes</td>\n",
       "      <td>Yes</td>\n",
       "      <td>DSL</td>\n",
       "      <td>Yes</td>\n",
       "      <td>...</td>\n",
       "      <td>Yes</td>\n",
       "      <td>No</td>\n",
       "      <td>No</td>\n",
       "      <td>Yes</td>\n",
       "      <td>Two year</td>\n",
       "      <td>Yes</td>\n",
       "      <td>Mailed check</td>\n",
       "      <td>69.90</td>\n",
       "      <td>4226.7</td>\n",
       "      <td>No</td>\n",
       "    </tr>\n",
       "    <tr>\n",
       "      <th>1409</th>\n",
       "      <td>5977-CKHON</td>\n",
       "      <td>Female</td>\n",
       "      <td>0</td>\n",
       "      <td>Yes</td>\n",
       "      <td>Yes</td>\n",
       "      <td>43</td>\n",
       "      <td>Yes</td>\n",
       "      <td>Yes</td>\n",
       "      <td>Fiber optic</td>\n",
       "      <td>No</td>\n",
       "      <td>...</td>\n",
       "      <td>Yes</td>\n",
       "      <td>No</td>\n",
       "      <td>No</td>\n",
       "      <td>Yes</td>\n",
       "      <td>Month-to-month</td>\n",
       "      <td>Yes</td>\n",
       "      <td>Bank transfer (automatic)</td>\n",
       "      <td>92.55</td>\n",
       "      <td>4039</td>\n",
       "      <td>No</td>\n",
       "    </tr>\n",
       "    <tr>\n",
       "      <th>2907</th>\n",
       "      <td>0611-DFXKO</td>\n",
       "      <td>Male</td>\n",
       "      <td>0</td>\n",
       "      <td>Yes</td>\n",
       "      <td>No</td>\n",
       "      <td>20</td>\n",
       "      <td>Yes</td>\n",
       "      <td>No</td>\n",
       "      <td>Fiber optic</td>\n",
       "      <td>No</td>\n",
       "      <td>...</td>\n",
       "      <td>No</td>\n",
       "      <td>No</td>\n",
       "      <td>Yes</td>\n",
       "      <td>Yes</td>\n",
       "      <td>Month-to-month</td>\n",
       "      <td>Yes</td>\n",
       "      <td>Mailed check</td>\n",
       "      <td>89.00</td>\n",
       "      <td>1820.45</td>\n",
       "      <td>Yes</td>\n",
       "    </tr>\n",
       "    <tr>\n",
       "      <th>1507</th>\n",
       "      <td>7427-AUFPY</td>\n",
       "      <td>Male</td>\n",
       "      <td>0</td>\n",
       "      <td>No</td>\n",
       "      <td>No</td>\n",
       "      <td>54</td>\n",
       "      <td>Yes</td>\n",
       "      <td>No</td>\n",
       "      <td>No</td>\n",
       "      <td>No internet service</td>\n",
       "      <td>...</td>\n",
       "      <td>No internet service</td>\n",
       "      <td>No internet service</td>\n",
       "      <td>No internet service</td>\n",
       "      <td>No internet service</td>\n",
       "      <td>Two year</td>\n",
       "      <td>No</td>\n",
       "      <td>Credit card (automatic)</td>\n",
       "      <td>19.65</td>\n",
       "      <td>1008.7</td>\n",
       "      <td>No</td>\n",
       "    </tr>\n",
       "  </tbody>\n",
       "</table>\n",
       "<p>5 rows × 21 columns</p>\n",
       "</div>"
      ],
      "text/plain": [
       "      customerID  gender  SeniorCitizen Partner Dependents  tenure  \\\n",
       "2812  3763-GCZHZ    Male              0     Yes         No      66   \n",
       "6086  0916-KNFAJ    Male              0     Yes         No      61   \n",
       "1409  5977-CKHON  Female              0     Yes        Yes      43   \n",
       "2907  0611-DFXKO    Male              0     Yes         No      20   \n",
       "1507  7427-AUFPY    Male              0      No         No      54   \n",
       "\n",
       "     PhoneService MultipleLines InternetService       OnlineSecurity  ...  \\\n",
       "2812          Yes           Yes     Fiber optic                   No  ...   \n",
       "6086          Yes           Yes             DSL                  Yes  ...   \n",
       "1409          Yes           Yes     Fiber optic                   No  ...   \n",
       "2907          Yes            No     Fiber optic                   No  ...   \n",
       "1507          Yes            No              No  No internet service  ...   \n",
       "\n",
       "         DeviceProtection          TechSupport          StreamingTV  \\\n",
       "2812                   No                  Yes                  Yes   \n",
       "6086                  Yes                   No                   No   \n",
       "1409                  Yes                   No                   No   \n",
       "2907                   No                   No                  Yes   \n",
       "1507  No internet service  No internet service  No internet service   \n",
       "\n",
       "          StreamingMovies        Contract PaperlessBilling  \\\n",
       "2812                  Yes        One year              Yes   \n",
       "6086                  Yes        Two year              Yes   \n",
       "1409                  Yes  Month-to-month              Yes   \n",
       "2907                  Yes  Month-to-month              Yes   \n",
       "1507  No internet service        Two year               No   \n",
       "\n",
       "                  PaymentMethod MonthlyCharges  TotalCharges Churn  \n",
       "2812           Electronic check         104.05          6890   Yes  \n",
       "6086               Mailed check          69.90        4226.7    No  \n",
       "1409  Bank transfer (automatic)          92.55          4039    No  \n",
       "2907               Mailed check          89.00       1820.45   Yes  \n",
       "1507    Credit card (automatic)          19.65        1008.7    No  \n",
       "\n",
       "[5 rows x 21 columns]"
      ]
     },
     "execution_count": 3,
     "metadata": {},
     "output_type": "execute_result"
    }
   ],
   "source": [
    "df.sample(5)"
   ]
  },
  {
   "cell_type": "code",
   "execution_count": 4,
   "id": "40b5dcf4",
   "metadata": {},
   "outputs": [
    {
     "data": {
      "text/plain": [
       "(7043, 21)"
      ]
     },
     "execution_count": 4,
     "metadata": {},
     "output_type": "execute_result"
    }
   ],
   "source": [
    "df.shape"
   ]
  },
  {
   "cell_type": "markdown",
   "id": "9035499a",
   "metadata": {},
   "source": [
    "Dropping the customerID column as we can see it doesn't contribute to the dataset as much and,\n",
    "printing the rest of the column names and their datatypes."
   ]
  },
  {
   "cell_type": "code",
   "execution_count": 6,
   "id": "e4599c07",
   "metadata": {
    "scrolled": true
   },
   "outputs": [
    {
     "data": {
      "text/plain": [
       "gender               object\n",
       "SeniorCitizen         int64\n",
       "Partner              object\n",
       "Dependents           object\n",
       "tenure                int64\n",
       "PhoneService         object\n",
       "MultipleLines        object\n",
       "InternetService      object\n",
       "OnlineSecurity       object\n",
       "OnlineBackup         object\n",
       "DeviceProtection     object\n",
       "TechSupport          object\n",
       "StreamingTV          object\n",
       "StreamingMovies      object\n",
       "Contract             object\n",
       "PaperlessBilling     object\n",
       "PaymentMethod        object\n",
       "MonthlyCharges      float64\n",
       "TotalCharges         object\n",
       "Churn                object\n",
       "dtype: object"
      ]
     },
     "execution_count": 6,
     "metadata": {},
     "output_type": "execute_result"
    }
   ],
   "source": [
    "df.drop('customerID',axis='columns',inplace=True)\n",
    "df.dtypes"
   ]
  },
  {
   "cell_type": "markdown",
   "id": "7324deaf",
   "metadata": {},
   "source": [
    "Here we can see that the TotalCharges is a string but MothlyCharges is an interger. So, we have to convert TotalCharges to \n",
    "numeric. "
   ]
  },
  {
   "cell_type": "code",
   "execution_count": 7,
   "id": "b9e75f69",
   "metadata": {},
   "outputs": [
    {
     "data": {
      "text/plain": [
       "(array(['29.85', '1889.5', '108.15', ..., '346.45', '306.6', '6844.5'],\n",
       "       dtype=object),\n",
       " array([ 29.85,  56.95,  53.85, ...,  29.6 ,  74.4 , 105.65]))"
      ]
     },
     "execution_count": 7,
     "metadata": {},
     "output_type": "execute_result"
    }
   ],
   "source": [
    "df.TotalCharges.values, df.MonthlyCharges.values"
   ]
  },
  {
   "cell_type": "markdown",
   "id": "2d306e03",
   "metadata": {},
   "source": [
    "Coercion is the implicit conversion of an instance of one type to another during an operation which involves two arguments of the same type or we can say it just fill the position which is empy with NA.\n",
    "Here we can see the TotalCharges that don't contain any value."
   ]
  },
  {
   "cell_type": "code",
   "execution_count": 9,
   "id": "60b714a5",
   "metadata": {},
   "outputs": [
    {
     "data": {
      "text/html": [
       "<div>\n",
       "<style scoped>\n",
       "    .dataframe tbody tr th:only-of-type {\n",
       "        vertical-align: middle;\n",
       "    }\n",
       "\n",
       "    .dataframe tbody tr th {\n",
       "        vertical-align: top;\n",
       "    }\n",
       "\n",
       "    .dataframe thead th {\n",
       "        text-align: right;\n",
       "    }\n",
       "</style>\n",
       "<table border=\"1\" class=\"dataframe\">\n",
       "  <thead>\n",
       "    <tr style=\"text-align: right;\">\n",
       "      <th></th>\n",
       "      <th>gender</th>\n",
       "      <th>SeniorCitizen</th>\n",
       "      <th>Partner</th>\n",
       "      <th>Dependents</th>\n",
       "      <th>tenure</th>\n",
       "      <th>PhoneService</th>\n",
       "      <th>MultipleLines</th>\n",
       "      <th>InternetService</th>\n",
       "      <th>OnlineSecurity</th>\n",
       "      <th>OnlineBackup</th>\n",
       "      <th>DeviceProtection</th>\n",
       "      <th>TechSupport</th>\n",
       "      <th>StreamingTV</th>\n",
       "      <th>StreamingMovies</th>\n",
       "      <th>Contract</th>\n",
       "      <th>PaperlessBilling</th>\n",
       "      <th>PaymentMethod</th>\n",
       "      <th>MonthlyCharges</th>\n",
       "      <th>TotalCharges</th>\n",
       "      <th>Churn</th>\n",
       "    </tr>\n",
       "  </thead>\n",
       "  <tbody>\n",
       "    <tr>\n",
       "      <th>488</th>\n",
       "      <td>Female</td>\n",
       "      <td>0</td>\n",
       "      <td>Yes</td>\n",
       "      <td>Yes</td>\n",
       "      <td>0</td>\n",
       "      <td>No</td>\n",
       "      <td>No phone service</td>\n",
       "      <td>DSL</td>\n",
       "      <td>Yes</td>\n",
       "      <td>No</td>\n",
       "      <td>Yes</td>\n",
       "      <td>Yes</td>\n",
       "      <td>Yes</td>\n",
       "      <td>No</td>\n",
       "      <td>Two year</td>\n",
       "      <td>Yes</td>\n",
       "      <td>Bank transfer (automatic)</td>\n",
       "      <td>52.55</td>\n",
       "      <td></td>\n",
       "      <td>No</td>\n",
       "    </tr>\n",
       "    <tr>\n",
       "      <th>753</th>\n",
       "      <td>Male</td>\n",
       "      <td>0</td>\n",
       "      <td>No</td>\n",
       "      <td>Yes</td>\n",
       "      <td>0</td>\n",
       "      <td>Yes</td>\n",
       "      <td>No</td>\n",
       "      <td>No</td>\n",
       "      <td>No internet service</td>\n",
       "      <td>No internet service</td>\n",
       "      <td>No internet service</td>\n",
       "      <td>No internet service</td>\n",
       "      <td>No internet service</td>\n",
       "      <td>No internet service</td>\n",
       "      <td>Two year</td>\n",
       "      <td>No</td>\n",
       "      <td>Mailed check</td>\n",
       "      <td>20.25</td>\n",
       "      <td></td>\n",
       "      <td>No</td>\n",
       "    </tr>\n",
       "    <tr>\n",
       "      <th>936</th>\n",
       "      <td>Female</td>\n",
       "      <td>0</td>\n",
       "      <td>Yes</td>\n",
       "      <td>Yes</td>\n",
       "      <td>0</td>\n",
       "      <td>Yes</td>\n",
       "      <td>No</td>\n",
       "      <td>DSL</td>\n",
       "      <td>Yes</td>\n",
       "      <td>Yes</td>\n",
       "      <td>Yes</td>\n",
       "      <td>No</td>\n",
       "      <td>Yes</td>\n",
       "      <td>Yes</td>\n",
       "      <td>Two year</td>\n",
       "      <td>No</td>\n",
       "      <td>Mailed check</td>\n",
       "      <td>80.85</td>\n",
       "      <td></td>\n",
       "      <td>No</td>\n",
       "    </tr>\n",
       "    <tr>\n",
       "      <th>1082</th>\n",
       "      <td>Male</td>\n",
       "      <td>0</td>\n",
       "      <td>Yes</td>\n",
       "      <td>Yes</td>\n",
       "      <td>0</td>\n",
       "      <td>Yes</td>\n",
       "      <td>Yes</td>\n",
       "      <td>No</td>\n",
       "      <td>No internet service</td>\n",
       "      <td>No internet service</td>\n",
       "      <td>No internet service</td>\n",
       "      <td>No internet service</td>\n",
       "      <td>No internet service</td>\n",
       "      <td>No internet service</td>\n",
       "      <td>Two year</td>\n",
       "      <td>No</td>\n",
       "      <td>Mailed check</td>\n",
       "      <td>25.75</td>\n",
       "      <td></td>\n",
       "      <td>No</td>\n",
       "    </tr>\n",
       "    <tr>\n",
       "      <th>1340</th>\n",
       "      <td>Female</td>\n",
       "      <td>0</td>\n",
       "      <td>Yes</td>\n",
       "      <td>Yes</td>\n",
       "      <td>0</td>\n",
       "      <td>No</td>\n",
       "      <td>No phone service</td>\n",
       "      <td>DSL</td>\n",
       "      <td>Yes</td>\n",
       "      <td>Yes</td>\n",
       "      <td>Yes</td>\n",
       "      <td>Yes</td>\n",
       "      <td>Yes</td>\n",
       "      <td>No</td>\n",
       "      <td>Two year</td>\n",
       "      <td>No</td>\n",
       "      <td>Credit card (automatic)</td>\n",
       "      <td>56.05</td>\n",
       "      <td></td>\n",
       "      <td>No</td>\n",
       "    </tr>\n",
       "    <tr>\n",
       "      <th>3331</th>\n",
       "      <td>Male</td>\n",
       "      <td>0</td>\n",
       "      <td>Yes</td>\n",
       "      <td>Yes</td>\n",
       "      <td>0</td>\n",
       "      <td>Yes</td>\n",
       "      <td>No</td>\n",
       "      <td>No</td>\n",
       "      <td>No internet service</td>\n",
       "      <td>No internet service</td>\n",
       "      <td>No internet service</td>\n",
       "      <td>No internet service</td>\n",
       "      <td>No internet service</td>\n",
       "      <td>No internet service</td>\n",
       "      <td>Two year</td>\n",
       "      <td>No</td>\n",
       "      <td>Mailed check</td>\n",
       "      <td>19.85</td>\n",
       "      <td></td>\n",
       "      <td>No</td>\n",
       "    </tr>\n",
       "    <tr>\n",
       "      <th>3826</th>\n",
       "      <td>Male</td>\n",
       "      <td>0</td>\n",
       "      <td>Yes</td>\n",
       "      <td>Yes</td>\n",
       "      <td>0</td>\n",
       "      <td>Yes</td>\n",
       "      <td>Yes</td>\n",
       "      <td>No</td>\n",
       "      <td>No internet service</td>\n",
       "      <td>No internet service</td>\n",
       "      <td>No internet service</td>\n",
       "      <td>No internet service</td>\n",
       "      <td>No internet service</td>\n",
       "      <td>No internet service</td>\n",
       "      <td>Two year</td>\n",
       "      <td>No</td>\n",
       "      <td>Mailed check</td>\n",
       "      <td>25.35</td>\n",
       "      <td></td>\n",
       "      <td>No</td>\n",
       "    </tr>\n",
       "    <tr>\n",
       "      <th>4380</th>\n",
       "      <td>Female</td>\n",
       "      <td>0</td>\n",
       "      <td>Yes</td>\n",
       "      <td>Yes</td>\n",
       "      <td>0</td>\n",
       "      <td>Yes</td>\n",
       "      <td>No</td>\n",
       "      <td>No</td>\n",
       "      <td>No internet service</td>\n",
       "      <td>No internet service</td>\n",
       "      <td>No internet service</td>\n",
       "      <td>No internet service</td>\n",
       "      <td>No internet service</td>\n",
       "      <td>No internet service</td>\n",
       "      <td>Two year</td>\n",
       "      <td>No</td>\n",
       "      <td>Mailed check</td>\n",
       "      <td>20.00</td>\n",
       "      <td></td>\n",
       "      <td>No</td>\n",
       "    </tr>\n",
       "    <tr>\n",
       "      <th>5218</th>\n",
       "      <td>Male</td>\n",
       "      <td>0</td>\n",
       "      <td>Yes</td>\n",
       "      <td>Yes</td>\n",
       "      <td>0</td>\n",
       "      <td>Yes</td>\n",
       "      <td>No</td>\n",
       "      <td>No</td>\n",
       "      <td>No internet service</td>\n",
       "      <td>No internet service</td>\n",
       "      <td>No internet service</td>\n",
       "      <td>No internet service</td>\n",
       "      <td>No internet service</td>\n",
       "      <td>No internet service</td>\n",
       "      <td>One year</td>\n",
       "      <td>Yes</td>\n",
       "      <td>Mailed check</td>\n",
       "      <td>19.70</td>\n",
       "      <td></td>\n",
       "      <td>No</td>\n",
       "    </tr>\n",
       "    <tr>\n",
       "      <th>6670</th>\n",
       "      <td>Female</td>\n",
       "      <td>0</td>\n",
       "      <td>Yes</td>\n",
       "      <td>Yes</td>\n",
       "      <td>0</td>\n",
       "      <td>Yes</td>\n",
       "      <td>Yes</td>\n",
       "      <td>DSL</td>\n",
       "      <td>No</td>\n",
       "      <td>Yes</td>\n",
       "      <td>Yes</td>\n",
       "      <td>Yes</td>\n",
       "      <td>Yes</td>\n",
       "      <td>No</td>\n",
       "      <td>Two year</td>\n",
       "      <td>No</td>\n",
       "      <td>Mailed check</td>\n",
       "      <td>73.35</td>\n",
       "      <td></td>\n",
       "      <td>No</td>\n",
       "    </tr>\n",
       "    <tr>\n",
       "      <th>6754</th>\n",
       "      <td>Male</td>\n",
       "      <td>0</td>\n",
       "      <td>No</td>\n",
       "      <td>Yes</td>\n",
       "      <td>0</td>\n",
       "      <td>Yes</td>\n",
       "      <td>Yes</td>\n",
       "      <td>DSL</td>\n",
       "      <td>Yes</td>\n",
       "      <td>Yes</td>\n",
       "      <td>No</td>\n",
       "      <td>Yes</td>\n",
       "      <td>No</td>\n",
       "      <td>No</td>\n",
       "      <td>Two year</td>\n",
       "      <td>Yes</td>\n",
       "      <td>Bank transfer (automatic)</td>\n",
       "      <td>61.90</td>\n",
       "      <td></td>\n",
       "      <td>No</td>\n",
       "    </tr>\n",
       "  </tbody>\n",
       "</table>\n",
       "</div>"
      ],
      "text/plain": [
       "      gender  SeniorCitizen Partner Dependents  tenure PhoneService  \\\n",
       "488   Female              0     Yes        Yes       0           No   \n",
       "753     Male              0      No        Yes       0          Yes   \n",
       "936   Female              0     Yes        Yes       0          Yes   \n",
       "1082    Male              0     Yes        Yes       0          Yes   \n",
       "1340  Female              0     Yes        Yes       0           No   \n",
       "3331    Male              0     Yes        Yes       0          Yes   \n",
       "3826    Male              0     Yes        Yes       0          Yes   \n",
       "4380  Female              0     Yes        Yes       0          Yes   \n",
       "5218    Male              0     Yes        Yes       0          Yes   \n",
       "6670  Female              0     Yes        Yes       0          Yes   \n",
       "6754    Male              0      No        Yes       0          Yes   \n",
       "\n",
       "         MultipleLines InternetService       OnlineSecurity  \\\n",
       "488   No phone service             DSL                  Yes   \n",
       "753                 No              No  No internet service   \n",
       "936                 No             DSL                  Yes   \n",
       "1082               Yes              No  No internet service   \n",
       "1340  No phone service             DSL                  Yes   \n",
       "3331                No              No  No internet service   \n",
       "3826               Yes              No  No internet service   \n",
       "4380                No              No  No internet service   \n",
       "5218                No              No  No internet service   \n",
       "6670               Yes             DSL                   No   \n",
       "6754               Yes             DSL                  Yes   \n",
       "\n",
       "             OnlineBackup     DeviceProtection          TechSupport  \\\n",
       "488                    No                  Yes                  Yes   \n",
       "753   No internet service  No internet service  No internet service   \n",
       "936                   Yes                  Yes                   No   \n",
       "1082  No internet service  No internet service  No internet service   \n",
       "1340                  Yes                  Yes                  Yes   \n",
       "3331  No internet service  No internet service  No internet service   \n",
       "3826  No internet service  No internet service  No internet service   \n",
       "4380  No internet service  No internet service  No internet service   \n",
       "5218  No internet service  No internet service  No internet service   \n",
       "6670                  Yes                  Yes                  Yes   \n",
       "6754                  Yes                   No                  Yes   \n",
       "\n",
       "              StreamingTV      StreamingMovies  Contract PaperlessBilling  \\\n",
       "488                   Yes                   No  Two year              Yes   \n",
       "753   No internet service  No internet service  Two year               No   \n",
       "936                   Yes                  Yes  Two year               No   \n",
       "1082  No internet service  No internet service  Two year               No   \n",
       "1340                  Yes                   No  Two year               No   \n",
       "3331  No internet service  No internet service  Two year               No   \n",
       "3826  No internet service  No internet service  Two year               No   \n",
       "4380  No internet service  No internet service  Two year               No   \n",
       "5218  No internet service  No internet service  One year              Yes   \n",
       "6670                  Yes                   No  Two year               No   \n",
       "6754                   No                   No  Two year              Yes   \n",
       "\n",
       "                  PaymentMethod  MonthlyCharges TotalCharges Churn  \n",
       "488   Bank transfer (automatic)           52.55                 No  \n",
       "753                Mailed check           20.25                 No  \n",
       "936                Mailed check           80.85                 No  \n",
       "1082               Mailed check           25.75                 No  \n",
       "1340    Credit card (automatic)           56.05                 No  \n",
       "3331               Mailed check           19.85                 No  \n",
       "3826               Mailed check           25.35                 No  \n",
       "4380               Mailed check           20.00                 No  \n",
       "5218               Mailed check           19.70                 No  \n",
       "6670               Mailed check           73.35                 No  \n",
       "6754  Bank transfer (automatic)           61.90                 No  "
      ]
     },
     "execution_count": 9,
     "metadata": {},
     "output_type": "execute_result"
    }
   ],
   "source": [
    "df[pd.to_numeric(df.TotalCharges,errors='coerce').isnull()]"
   ]
  },
  {
   "cell_type": "code",
   "execution_count": 10,
   "id": "4dcc032e",
   "metadata": {},
   "outputs": [
    {
     "data": {
      "text/plain": [
       "(11, 20)"
      ]
     },
     "execution_count": 10,
     "metadata": {},
     "output_type": "execute_result"
    }
   ],
   "source": [
    "df[pd.to_numeric(df.TotalCharges,errors='coerce').isnull()].shape"
   ]
  },
  {
   "cell_type": "code",
   "execution_count": 11,
   "id": "2e99b7fc",
   "metadata": {},
   "outputs": [
    {
     "data": {
      "text/plain": [
       "' '"
      ]
     },
     "execution_count": 11,
     "metadata": {},
     "output_type": "execute_result"
    }
   ],
   "source": [
    "df.iloc[488]['TotalCharges']"
   ]
  },
  {
   "cell_type": "code",
   "execution_count": null,
   "id": "0ef3f14c",
   "metadata": {},
   "outputs": [],
   "source": [
    "pd.to_numeric(df.TotalCharges,errors='coerce')"
   ]
  },
  {
   "cell_type": "markdown",
   "id": "d84647a5",
   "metadata": {},
   "source": [
    "So i have dropped all the 11 rows"
   ]
  },
  {
   "cell_type": "code",
   "execution_count": 12,
   "id": "24932f51",
   "metadata": {},
   "outputs": [
    {
     "data": {
      "text/plain": [
       "(7032, 20)"
      ]
     },
     "execution_count": 12,
     "metadata": {},
     "output_type": "execute_result"
    }
   ],
   "source": [
    "df1=df[df.TotalCharges!=' ']\n",
    "df1.shape"
   ]
  },
  {
   "cell_type": "markdown",
   "id": "c8681ae9",
   "metadata": {},
   "source": [
    "Now we are converting the datatype of TotalChages to numeric"
   ]
  },
  {
   "cell_type": "code",
   "execution_count": 13,
   "id": "3175cdb3",
   "metadata": {},
   "outputs": [
    {
     "name": "stderr",
     "output_type": "stream",
     "text": [
      "C:\\Users\\brago\\anaconda3\\lib\\site-packages\\pandas\\core\\generic.py:5516: SettingWithCopyWarning: \n",
      "A value is trying to be set on a copy of a slice from a DataFrame.\n",
      "Try using .loc[row_indexer,col_indexer] = value instead\n",
      "\n",
      "See the caveats in the documentation: https://pandas.pydata.org/pandas-docs/stable/user_guide/indexing.html#returning-a-view-versus-a-copy\n",
      "  self[name] = value\n"
     ]
    }
   ],
   "source": [
    "df1.TotalCharges=pd.to_numeric(df1.TotalCharges)"
   ]
  },
  {
   "cell_type": "code",
   "execution_count": 14,
   "id": "4bebd6e0",
   "metadata": {},
   "outputs": [
    {
     "data": {
      "text/plain": [
       "dtype('float64')"
      ]
     },
     "execution_count": 14,
     "metadata": {},
     "output_type": "execute_result"
    }
   ],
   "source": [
    "df1.TotalCharges.dtypes"
   ]
  },
  {
   "cell_type": "code",
   "execution_count": 15,
   "id": "ac6ab7a7",
   "metadata": {},
   "outputs": [],
   "source": [
    "tenure_churn_no=df1[df1.Churn=='No'].tenure\n",
    "tenure_churn_yes=df1[df1.Churn=='Yes'].tenure"
   ]
  },
  {
   "cell_type": "markdown",
   "id": "dafc5f01",
   "metadata": {},
   "source": [
    "Red color represents customer who are not leaving and green bar represents who are leaving.\n",
    "We can see the number of customers who has more tenure is not leaving."
   ]
  },
  {
   "cell_type": "code",
   "execution_count": 16,
   "id": "7ffe8263",
   "metadata": {},
   "outputs": [],
   "source": [
    "import matplotlib.pyplot as plt"
   ]
  },
  {
   "cell_type": "code",
   "execution_count": 17,
   "id": "0a383463",
   "metadata": {},
   "outputs": [
    {
     "data": {
      "text/plain": [
       "<matplotlib.legend.Legend at 0x13d2cb15ac0>"
      ]
     },
     "execution_count": 17,
     "metadata": {},
     "output_type": "execute_result"
    },
    {
     "data": {
      "image/png": "[encoded data removed]",
      "text/plain": [
       "<Figure size 432x288 with 1 Axes>"
      ]
     },
     "metadata": {
      "needs_background": "light"
     },
     "output_type": "display_data"
    }
   ],
   "source": [
    "plt.xlabel('tenure')\n",
    "plt.ylabel('Number of customers')\n",
    "plt.title('Customer churn Prediction Graph')\n",
    "plt.hist([tenure_churn_yes,tenure_churn_no],color=['green','red'],label=['Churn=Yes','Churn=No'])\n",
    "plt.legend()"
   ]
  },
  {
   "cell_type": "markdown",
   "id": "596b2990",
   "metadata": {},
   "source": [
    "Now we are plotting the same graph based on the monthly charges."
   ]
  },
  {
   "cell_type": "code",
   "execution_count": 18,
   "id": "e093e39c",
   "metadata": {},
   "outputs": [
    {
     "data": {
      "text/plain": [
       "<matplotlib.legend.Legend at 0x13d2e2ac5b0>"
      ]
     },
     "execution_count": 18,
     "metadata": {},
     "output_type": "execute_result"
    },
    {
     "data": {
      "image/png": "[encoded data removed]",
      "text/plain": [
       "<Figure size 432x288 with 1 Axes>"
      ]
     },
     "metadata": {
      "needs_background": "light"
     },
     "output_type": "display_data"
    }
   ],
   "source": [
    "mc_churn_no=df1[df1.Churn=='No'].MonthlyCharges\n",
    "mc_churn_yes=df1[df1.Churn=='Yes'].MonthlyCharges\n",
    "\n",
    "plt.xlabel('MonThlyCharges')\n",
    "plt.ylabel('Number of customers')\n",
    "plt.title('Customer churn Prediction Graph')\n",
    "\n",
    "plt.hist([mc_churn_yes,mc_churn_no],rwidth=1.25,color=['green','red'],label=['Churn=Yes','Churn=No'])\n",
    "plt.legend()"
   ]
  },
  {
   "cell_type": "code",
   "execution_count": 19,
   "id": "00c6f984",
   "metadata": {},
   "outputs": [],
   "source": [
    "def print_unique_and_object_value(df):\n",
    "    for column in df:\n",
    "        if df[column].dtypes=='object':\n",
    "            print(f'{column}: {df[column].unique()}')"
   ]
  },
  {
   "cell_type": "markdown",
   "id": "3116a56e",
   "metadata": {},
   "source": [
    "Here we can see the columns with string datatypes has various types. So we have to convert all the strings to numeric data."
   ]
  },
  {
   "cell_type": "code",
   "execution_count": 20,
   "id": "39bac0e5",
   "metadata": {},
   "outputs": [
    {
     "name": "stdout",
     "output_type": "stream",
     "text": [
      "gender: ['Female' 'Male']\n",
      "Partner: ['Yes' 'No']\n",
      "Dependents: ['No' 'Yes']\n",
      "PhoneService: ['No' 'Yes']\n",
      "MultipleLines: ['No phone service' 'No' 'Yes']\n",
      "InternetService: ['DSL' 'Fiber optic' 'No']\n",
      "OnlineSecurity: ['No' 'Yes' 'No internet service']\n",
      "OnlineBackup: ['Yes' 'No' 'No internet service']\n",
      "DeviceProtection: ['No' 'Yes' 'No internet service']\n",
      "TechSupport: ['No' 'Yes' 'No internet service']\n",
      "StreamingTV: ['No' 'Yes' 'No internet service']\n",
      "StreamingMovies: ['No' 'Yes' 'No internet service']\n",
      "Contract: ['Month-to-month' 'One year' 'Two year']\n",
      "PaperlessBilling: ['Yes' 'No']\n",
      "PaymentMethod: ['Electronic check' 'Mailed check' 'Bank transfer (automatic)'\n",
      " 'Credit card (automatic)']\n",
      "Churn: ['No' 'Yes']\n"
     ]
    }
   ],
   "source": [
    "print_unique_and_object_value(df1)"
   ]
  },
  {
   "cell_type": "code",
   "execution_count": 21,
   "id": "e520807b",
   "metadata": {},
   "outputs": [
    {
     "name": "stdout",
     "output_type": "stream",
     "text": [
      "gender: ['Female' 'Male']\n",
      "Partner: ['Yes' 'No']\n",
      "Dependents: ['No' 'Yes']\n",
      "PhoneService: ['No' 'Yes']\n",
      "MultipleLines: ['No' 'Yes']\n",
      "InternetService: ['DSL' 'Fiber optic' 'No']\n",
      "OnlineSecurity: ['No' 'Yes']\n",
      "OnlineBackup: ['Yes' 'No']\n",
      "DeviceProtection: ['No' 'Yes']\n",
      "TechSupport: ['No' 'Yes']\n",
      "StreamingTV: ['No' 'Yes']\n",
      "StreamingMovies: ['No' 'Yes']\n",
      "Contract: ['Month-to-month' 'One year' 'Two year']\n",
      "PaperlessBilling: ['Yes' 'No']\n",
      "PaymentMethod: ['Electronic check' 'Mailed check' 'Bank transfer (automatic)'\n",
      " 'Credit card (automatic)']\n",
      "Churn: ['No' 'Yes']\n"
     ]
    },
    {
     "name": "stderr",
     "output_type": "stream",
     "text": [
      "C:\\Users\\brago\\anaconda3\\lib\\site-packages\\pandas\\core\\frame.py:5238: SettingWithCopyWarning: \n",
      "A value is trying to be set on a copy of a slice from a DataFrame\n",
      "\n",
      "See the caveats in the documentation: https://pandas.pydata.org/pandas-docs/stable/user_guide/indexing.html#returning-a-view-versus-a-copy\n",
      "  return super().replace(\n"
     ]
    }
   ],
   "source": [
    "df1.replace('No phone service','No',inplace=True)\n",
    "df1.replace('No internet service','No',inplace=True)\n",
    "print_unique_and_object_value(df1)"
   ]
  },
  {
   "cell_type": "code",
   "execution_count": 22,
   "id": "814f9f8e",
   "metadata": {},
   "outputs": [
    {
     "name": "stderr",
     "output_type": "stream",
     "text": [
      "C:\\Users\\brago\\anaconda3\\lib\\site-packages\\pandas\\core\\generic.py:6619: SettingWithCopyWarning: \n",
      "A value is trying to be set on a copy of a slice from a DataFrame\n",
      "\n",
      "See the caveats in the documentation: https://pandas.pydata.org/pandas-docs/stable/user_guide/indexing.html#returning-a-view-versus-a-copy\n",
      "  return self._update_inplace(result)\n"
     ]
    }
   ],
   "source": [
    "yes_no_columns=['Partner','Dependents','PhoneService','MultipleLines','OnlineSecurity','OnlineBackup','DeviceProtection','TechSupport',\n",
    "               'StreamingTV','StreamingMovies','PaperlessBilling','Churn']\n",
    "\n",
    "\n",
    "for col in yes_no_columns:\n",
    "    df1[col].replace({'Yes':1,'No':0},inplace=True)"
   ]
  },
  {
   "cell_type": "code",
   "execution_count": 23,
   "id": "a4f3f3b5",
   "metadata": {},
   "outputs": [],
   "source": [
    "df1['gender'].replace('Male',0,inplace=True)\n",
    "df1['gender'].replace('Female',1,inplace=True)"
   ]
  },
  {
   "cell_type": "code",
   "execution_count": 24,
   "id": "ac5dda08",
   "metadata": {
    "scrolled": true
   },
   "outputs": [
    {
     "name": "stdout",
     "output_type": "stream",
     "text": [
      "gender: [1 0]\n",
      "SeniorCitizen: [0 1]\n",
      "Partner: [1 0]\n",
      "Dependents: [0 1]\n",
      "tenure: [ 1 34  2 45  8 22 10 28 62 13 16 58 49 25 69 52 71 21 12 30 47 72 17 27\n",
      "  5 46 11 70 63 43 15 60 18 66  9  3 31 50 64 56  7 42 35 48 29 65 38 68\n",
      " 32 55 37 36 41  6  4 33 67 23 57 61 14 20 53 40 59 24 44 19 54 51 26 39]\n",
      "PhoneService: [0 1]\n",
      "MultipleLines: [0 1]\n",
      "InternetService: ['DSL' 'Fiber optic' 'No']\n",
      "OnlineSecurity: [0 1]\n",
      "OnlineBackup: [1 0]\n",
      "DeviceProtection: [0 1]\n",
      "TechSupport: [0 1]\n",
      "StreamingTV: [0 1]\n",
      "StreamingMovies: [0 1]\n",
      "Contract: ['Month-to-month' 'One year' 'Two year']\n",
      "PaperlessBilling: [1 0]\n",
      "PaymentMethod: ['Electronic check' 'Mailed check' 'Bank transfer (automatic)'\n",
      " 'Credit card (automatic)']\n",
      "MonthlyCharges: [29.85 56.95 53.85 ... 63.1  44.2  78.7 ]\n",
      "TotalCharges: [  29.85 1889.5   108.15 ...  346.45  306.6  6844.5 ]\n",
      "Churn: [0 1]\n"
     ]
    }
   ],
   "source": [
    "for column in df1:\n",
    "    print(f'{column}: {df1[column].unique()}')"
   ]
  },
  {
   "cell_type": "markdown",
   "id": "a729b7d1",
   "metadata": {},
   "source": [
    "Here I am usig One Hot Encoding for the InternetServices, Contract and PaymentMethon columns as they have more than 2 types of\n",
    "methods"
   ]
  },
  {
   "cell_type": "code",
   "execution_count": 25,
   "id": "e84d7b46",
   "metadata": {},
   "outputs": [
    {
     "data": {
      "text/plain": [
       "gender                                       int64\n",
       "SeniorCitizen                                int64\n",
       "Partner                                      int64\n",
       "Dependents                                   int64\n",
       "tenure                                       int64\n",
       "PhoneService                                 int64\n",
       "MultipleLines                                int64\n",
       "OnlineSecurity                               int64\n",
       "OnlineBackup                                 int64\n",
       "DeviceProtection                             int64\n",
       "TechSupport                                  int64\n",
       "StreamingTV                                  int64\n",
       "StreamingMovies                              int64\n",
       "PaperlessBilling                             int64\n",
       "MonthlyCharges                             float64\n",
       "TotalCharges                               float64\n",
       "Churn                                        int64\n",
       "InternetService_DSL                          uint8\n",
       "InternetService_Fiber optic                  uint8\n",
       "InternetService_No                           uint8\n",
       "Contract_Month-to-month                      uint8\n",
       "Contract_One year                            uint8\n",
       "Contract_Two year                            uint8\n",
       "PaymentMethod_Bank transfer (automatic)      uint8\n",
       "PaymentMethod_Credit card (automatic)        uint8\n",
       "PaymentMethod_Electronic check               uint8\n",
       "PaymentMethod_Mailed check                   uint8\n",
       "dtype: object"
      ]
     },
     "execution_count": 25,
     "metadata": {},
     "output_type": "execute_result"
    }
   ],
   "source": [
    "#One Hot Encoding\n",
    "df2=pd.get_dummies(data=df1,columns=['InternetService','Contract','PaymentMethod'])\n",
    "df2.dtypes"
   ]
  },
  {
   "cell_type": "markdown",
   "id": "bb9ea492",
   "metadata": {},
   "source": [
    "Now all of the columns have converted to numeric."
   ]
  },
  {
   "cell_type": "code",
   "execution_count": 26,
   "id": "c3fd41f8",
   "metadata": {},
   "outputs": [
    {
     "data": {
      "text/html": [
       "<div>\n",
       "<style scoped>\n",
       "    .dataframe tbody tr th:only-of-type {\n",
       "        vertical-align: middle;\n",
       "    }\n",
       "\n",
       "    .dataframe tbody tr th {\n",
       "        vertical-align: top;\n",
       "    }\n",
       "\n",
       "    .dataframe thead th {\n",
       "        text-align: right;\n",
       "    }\n",
       "</style>\n",
       "<table border=\"1\" class=\"dataframe\">\n",
       "  <thead>\n",
       "    <tr style=\"text-align: right;\">\n",
       "      <th></th>\n",
       "      <th>gender</th>\n",
       "      <th>SeniorCitizen</th>\n",
       "      <th>Partner</th>\n",
       "      <th>Dependents</th>\n",
       "      <th>tenure</th>\n",
       "      <th>PhoneService</th>\n",
       "      <th>MultipleLines</th>\n",
       "      <th>OnlineSecurity</th>\n",
       "      <th>OnlineBackup</th>\n",
       "      <th>DeviceProtection</th>\n",
       "      <th>...</th>\n",
       "      <th>InternetService_DSL</th>\n",
       "      <th>InternetService_Fiber optic</th>\n",
       "      <th>InternetService_No</th>\n",
       "      <th>Contract_Month-to-month</th>\n",
       "      <th>Contract_One year</th>\n",
       "      <th>Contract_Two year</th>\n",
       "      <th>PaymentMethod_Bank transfer (automatic)</th>\n",
       "      <th>PaymentMethod_Credit card (automatic)</th>\n",
       "      <th>PaymentMethod_Electronic check</th>\n",
       "      <th>PaymentMethod_Mailed check</th>\n",
       "    </tr>\n",
       "  </thead>\n",
       "  <tbody>\n",
       "    <tr>\n",
       "      <th>5105</th>\n",
       "      <td>1</td>\n",
       "      <td>1</td>\n",
       "      <td>1</td>\n",
       "      <td>0</td>\n",
       "      <td>40</td>\n",
       "      <td>1</td>\n",
       "      <td>0</td>\n",
       "      <td>0</td>\n",
       "      <td>1</td>\n",
       "      <td>0</td>\n",
       "      <td>...</td>\n",
       "      <td>0</td>\n",
       "      <td>1</td>\n",
       "      <td>0</td>\n",
       "      <td>0</td>\n",
       "      <td>1</td>\n",
       "      <td>0</td>\n",
       "      <td>0</td>\n",
       "      <td>1</td>\n",
       "      <td>0</td>\n",
       "      <td>0</td>\n",
       "    </tr>\n",
       "    <tr>\n",
       "      <th>1429</th>\n",
       "      <td>0</td>\n",
       "      <td>0</td>\n",
       "      <td>1</td>\n",
       "      <td>1</td>\n",
       "      <td>45</td>\n",
       "      <td>1</td>\n",
       "      <td>1</td>\n",
       "      <td>0</td>\n",
       "      <td>0</td>\n",
       "      <td>0</td>\n",
       "      <td>...</td>\n",
       "      <td>0</td>\n",
       "      <td>0</td>\n",
       "      <td>1</td>\n",
       "      <td>0</td>\n",
       "      <td>0</td>\n",
       "      <td>1</td>\n",
       "      <td>0</td>\n",
       "      <td>0</td>\n",
       "      <td>0</td>\n",
       "      <td>1</td>\n",
       "    </tr>\n",
       "    <tr>\n",
       "      <th>7016</th>\n",
       "      <td>1</td>\n",
       "      <td>0</td>\n",
       "      <td>0</td>\n",
       "      <td>0</td>\n",
       "      <td>1</td>\n",
       "      <td>1</td>\n",
       "      <td>0</td>\n",
       "      <td>0</td>\n",
       "      <td>1</td>\n",
       "      <td>0</td>\n",
       "      <td>...</td>\n",
       "      <td>1</td>\n",
       "      <td>0</td>\n",
       "      <td>0</td>\n",
       "      <td>1</td>\n",
       "      <td>0</td>\n",
       "      <td>0</td>\n",
       "      <td>0</td>\n",
       "      <td>0</td>\n",
       "      <td>1</td>\n",
       "      <td>0</td>\n",
       "    </tr>\n",
       "  </tbody>\n",
       "</table>\n",
       "<p>3 rows × 27 columns</p>\n",
       "</div>"
      ],
      "text/plain": [
       "      gender  SeniorCitizen  Partner  Dependents  tenure  PhoneService  \\\n",
       "5105       1              1        1           0      40             1   \n",
       "1429       0              0        1           1      45             1   \n",
       "7016       1              0        0           0       1             1   \n",
       "\n",
       "      MultipleLines  OnlineSecurity  OnlineBackup  DeviceProtection  ...  \\\n",
       "5105              0               0             1                 0  ...   \n",
       "1429              1               0             0                 0  ...   \n",
       "7016              0               0             1                 0  ...   \n",
       "\n",
       "      InternetService_DSL  InternetService_Fiber optic  InternetService_No  \\\n",
       "5105                    0                            1                   0   \n",
       "1429                    0                            0                   1   \n",
       "7016                    1                            0                   0   \n",
       "\n",
       "      Contract_Month-to-month  Contract_One year  Contract_Two year  \\\n",
       "5105                        0                  1                  0   \n",
       "1429                        0                  0                  1   \n",
       "7016                        1                  0                  0   \n",
       "\n",
       "      PaymentMethod_Bank transfer (automatic)  \\\n",
       "5105                                        0   \n",
       "1429                                        0   \n",
       "7016                                        0   \n",
       "\n",
       "      PaymentMethod_Credit card (automatic)  PaymentMethod_Electronic check  \\\n",
       "5105                                      1                               0   \n",
       "1429                                      0                               0   \n",
       "7016                                      0                               1   \n",
       "\n",
       "      PaymentMethod_Mailed check  \n",
       "5105                           0  \n",
       "1429                           1  \n",
       "7016                           0  \n",
       "\n",
       "[3 rows x 27 columns]"
      ]
     },
     "execution_count": 26,
     "metadata": {},
     "output_type": "execute_result"
    }
   ],
   "source": [
    "df2.sample(3)"
   ]
  },
  {
   "cell_type": "code",
   "execution_count": 27,
   "id": "ff36fb42",
   "metadata": {},
   "outputs": [
    {
     "data": {
      "text/plain": [
       "(7032, 27)"
      ]
     },
     "execution_count": 27,
     "metadata": {},
     "output_type": "execute_result"
    }
   ],
   "source": [
    "df2.shape"
   ]
  },
  {
   "cell_type": "code",
   "execution_count": 28,
   "id": "02027128",
   "metadata": {},
   "outputs": [
    {
     "data": {
      "text/plain": [
       "gender                                     0\n",
       "SeniorCitizen                              0\n",
       "Partner                                    0\n",
       "Dependents                                 0\n",
       "tenure                                     0\n",
       "PhoneService                               0\n",
       "MultipleLines                              0\n",
       "OnlineSecurity                             0\n",
       "OnlineBackup                               0\n",
       "DeviceProtection                           0\n",
       "TechSupport                                0\n",
       "StreamingTV                                0\n",
       "StreamingMovies                            0\n",
       "PaperlessBilling                           0\n",
       "MonthlyCharges                             0\n",
       "TotalCharges                               0\n",
       "Churn                                      0\n",
       "InternetService_DSL                        0\n",
       "InternetService_Fiber optic                0\n",
       "InternetService_No                         0\n",
       "Contract_Month-to-month                    0\n",
       "Contract_One year                          0\n",
       "Contract_Two year                          0\n",
       "PaymentMethod_Bank transfer (automatic)    0\n",
       "PaymentMethod_Credit card (automatic)      0\n",
       "PaymentMethod_Electronic check             0\n",
       "PaymentMethod_Mailed check                 0\n",
       "dtype: int64"
      ]
     },
     "execution_count": 28,
     "metadata": {},
     "output_type": "execute_result"
    }
   ],
   "source": [
    "df2.isnull().sum()"
   ]
  },
  {
   "cell_type": "markdown",
   "id": "19008c88",
   "metadata": {},
   "source": [
    "Out of 7032 customer 1869 customer has left."
   ]
  },
  {
   "cell_type": "code",
   "execution_count": 30,
   "id": "b70ae3fe",
   "metadata": {},
   "outputs": [
    {
     "data": {
      "text/plain": [
       "gender                                     1869\n",
       "SeniorCitizen                              1869\n",
       "Partner                                    1869\n",
       "Dependents                                 1869\n",
       "tenure                                     1869\n",
       "PhoneService                               1869\n",
       "MultipleLines                              1869\n",
       "OnlineSecurity                             1869\n",
       "OnlineBackup                               1869\n",
       "DeviceProtection                           1869\n",
       "TechSupport                                1869\n",
       "StreamingTV                                1869\n",
       "StreamingMovies                            1869\n",
       "PaperlessBilling                           1869\n",
       "MonthlyCharges                             1869\n",
       "TotalCharges                               1869\n",
       "Churn                                      1869\n",
       "InternetService_DSL                        1869\n",
       "InternetService_Fiber optic                1869\n",
       "InternetService_No                         1869\n",
       "Contract_Month-to-month                    1869\n",
       "Contract_One year                          1869\n",
       "Contract_Two year                          1869\n",
       "PaymentMethod_Bank transfer (automatic)    1869\n",
       "PaymentMethod_Credit card (automatic)      1869\n",
       "PaymentMethod_Electronic check             1869\n",
       "PaymentMethod_Mailed check                 1869\n",
       "dtype: int64"
      ]
     },
     "execution_count": 30,
     "metadata": {},
     "output_type": "execute_result"
    }
   ],
   "source": [
    "df2.loc[df2['Churn']==1].count()"
   ]
  },
  {
   "cell_type": "code",
   "execution_count": 31,
   "id": "ebeba4e4",
   "metadata": {},
   "outputs": [
    {
     "data": {
      "text/plain": [
       "(72, 8684.8, 118.75)"
      ]
     },
     "execution_count": 31,
     "metadata": {},
     "output_type": "execute_result"
    }
   ],
   "source": [
    "df2.tenure.max(),df2.TotalCharges.max(),df2.MonthlyCharges.max()"
   ]
  },
  {
   "cell_type": "markdown",
   "id": "cc45181f",
   "metadata": {},
   "source": [
    "We are using MinMax scaler to reduce the computation requirements."
   ]
  },
  {
   "cell_type": "code",
   "execution_count": 32,
   "id": "b4ee7c09",
   "metadata": {},
   "outputs": [],
   "source": [
    "cols_to_scale=['tenure','TotalCharges','MonthlyCharges']\n",
    "\n",
    "from sklearn.preprocessing import MinMaxScaler\n",
    "scaler=MinMaxScaler()\n",
    "df2[cols_to_scale]=scaler.fit_transform(df2[cols_to_scale])"
   ]
  },
  {
   "cell_type": "code",
   "execution_count": 33,
   "id": "ee07c48f",
   "metadata": {},
   "outputs": [
    {
     "data": {
      "text/html": [
       "<div>\n",
       "<style scoped>\n",
       "    .dataframe tbody tr th:only-of-type {\n",
       "        vertical-align: middle;\n",
       "    }\n",
       "\n",
       "    .dataframe tbody tr th {\n",
       "        vertical-align: top;\n",
       "    }\n",
       "\n",
       "    .dataframe thead th {\n",
       "        text-align: right;\n",
       "    }\n",
       "</style>\n",
       "<table border=\"1\" class=\"dataframe\">\n",
       "  <thead>\n",
       "    <tr style=\"text-align: right;\">\n",
       "      <th></th>\n",
       "      <th>gender</th>\n",
       "      <th>SeniorCitizen</th>\n",
       "      <th>Partner</th>\n",
       "      <th>Dependents</th>\n",
       "      <th>tenure</th>\n",
       "      <th>PhoneService</th>\n",
       "      <th>MultipleLines</th>\n",
       "      <th>OnlineSecurity</th>\n",
       "      <th>OnlineBackup</th>\n",
       "      <th>DeviceProtection</th>\n",
       "      <th>...</th>\n",
       "      <th>InternetService_DSL</th>\n",
       "      <th>InternetService_Fiber optic</th>\n",
       "      <th>InternetService_No</th>\n",
       "      <th>Contract_Month-to-month</th>\n",
       "      <th>Contract_One year</th>\n",
       "      <th>Contract_Two year</th>\n",
       "      <th>PaymentMethod_Bank transfer (automatic)</th>\n",
       "      <th>PaymentMethod_Credit card (automatic)</th>\n",
       "      <th>PaymentMethod_Electronic check</th>\n",
       "      <th>PaymentMethod_Mailed check</th>\n",
       "    </tr>\n",
       "  </thead>\n",
       "  <tbody>\n",
       "    <tr>\n",
       "      <th>6617</th>\n",
       "      <td>1</td>\n",
       "      <td>0</td>\n",
       "      <td>0</td>\n",
       "      <td>0</td>\n",
       "      <td>0.661972</td>\n",
       "      <td>1</td>\n",
       "      <td>1</td>\n",
       "      <td>1</td>\n",
       "      <td>1</td>\n",
       "      <td>1</td>\n",
       "      <td>...</td>\n",
       "      <td>1</td>\n",
       "      <td>0</td>\n",
       "      <td>0</td>\n",
       "      <td>0</td>\n",
       "      <td>1</td>\n",
       "      <td>0</td>\n",
       "      <td>0</td>\n",
       "      <td>1</td>\n",
       "      <td>0</td>\n",
       "      <td>0</td>\n",
       "    </tr>\n",
       "    <tr>\n",
       "      <th>5589</th>\n",
       "      <td>1</td>\n",
       "      <td>0</td>\n",
       "      <td>0</td>\n",
       "      <td>0</td>\n",
       "      <td>0.633803</td>\n",
       "      <td>1</td>\n",
       "      <td>0</td>\n",
       "      <td>0</td>\n",
       "      <td>0</td>\n",
       "      <td>1</td>\n",
       "      <td>...</td>\n",
       "      <td>1</td>\n",
       "      <td>0</td>\n",
       "      <td>0</td>\n",
       "      <td>0</td>\n",
       "      <td>0</td>\n",
       "      <td>1</td>\n",
       "      <td>0</td>\n",
       "      <td>1</td>\n",
       "      <td>0</td>\n",
       "      <td>0</td>\n",
       "    </tr>\n",
       "    <tr>\n",
       "      <th>5360</th>\n",
       "      <td>0</td>\n",
       "      <td>0</td>\n",
       "      <td>1</td>\n",
       "      <td>1</td>\n",
       "      <td>0.056338</td>\n",
       "      <td>1</td>\n",
       "      <td>1</td>\n",
       "      <td>1</td>\n",
       "      <td>0</td>\n",
       "      <td>1</td>\n",
       "      <td>...</td>\n",
       "      <td>0</td>\n",
       "      <td>1</td>\n",
       "      <td>0</td>\n",
       "      <td>1</td>\n",
       "      <td>0</td>\n",
       "      <td>0</td>\n",
       "      <td>0</td>\n",
       "      <td>0</td>\n",
       "      <td>1</td>\n",
       "      <td>0</td>\n",
       "    </tr>\n",
       "    <tr>\n",
       "      <th>245</th>\n",
       "      <td>0</td>\n",
       "      <td>1</td>\n",
       "      <td>0</td>\n",
       "      <td>0</td>\n",
       "      <td>0.042254</td>\n",
       "      <td>1</td>\n",
       "      <td>0</td>\n",
       "      <td>1</td>\n",
       "      <td>0</td>\n",
       "      <td>0</td>\n",
       "      <td>...</td>\n",
       "      <td>0</td>\n",
       "      <td>1</td>\n",
       "      <td>0</td>\n",
       "      <td>1</td>\n",
       "      <td>0</td>\n",
       "      <td>0</td>\n",
       "      <td>0</td>\n",
       "      <td>0</td>\n",
       "      <td>1</td>\n",
       "      <td>0</td>\n",
       "    </tr>\n",
       "    <tr>\n",
       "      <th>1820</th>\n",
       "      <td>1</td>\n",
       "      <td>0</td>\n",
       "      <td>1</td>\n",
       "      <td>0</td>\n",
       "      <td>0.070423</td>\n",
       "      <td>1</td>\n",
       "      <td>0</td>\n",
       "      <td>0</td>\n",
       "      <td>0</td>\n",
       "      <td>0</td>\n",
       "      <td>...</td>\n",
       "      <td>1</td>\n",
       "      <td>0</td>\n",
       "      <td>0</td>\n",
       "      <td>1</td>\n",
       "      <td>0</td>\n",
       "      <td>0</td>\n",
       "      <td>0</td>\n",
       "      <td>0</td>\n",
       "      <td>0</td>\n",
       "      <td>1</td>\n",
       "    </tr>\n",
       "  </tbody>\n",
       "</table>\n",
       "<p>5 rows × 27 columns</p>\n",
       "</div>"
      ],
      "text/plain": [
       "      gender  SeniorCitizen  Partner  Dependents    tenure  PhoneService  \\\n",
       "6617       1              0        0           0  0.661972             1   \n",
       "5589       1              0        0           0  0.633803             1   \n",
       "5360       0              0        1           1  0.056338             1   \n",
       "245        0              1        0           0  0.042254             1   \n",
       "1820       1              0        1           0  0.070423             1   \n",
       "\n",
       "      MultipleLines  OnlineSecurity  OnlineBackup  DeviceProtection  ...  \\\n",
       "6617              1               1             1                 1  ...   \n",
       "5589              0               0             0                 1  ...   \n",
       "5360              1               1             0                 1  ...   \n",
       "245               0               1             0                 0  ...   \n",
       "1820              0               0             0                 0  ...   \n",
       "\n",
       "      InternetService_DSL  InternetService_Fiber optic  InternetService_No  \\\n",
       "6617                    1                            0                   0   \n",
       "5589                    1                            0                   0   \n",
       "5360                    0                            1                   0   \n",
       "245                     0                            1                   0   \n",
       "1820                    1                            0                   0   \n",
       "\n",
       "      Contract_Month-to-month  Contract_One year  Contract_Two year  \\\n",
       "6617                        0                  1                  0   \n",
       "5589                        0                  0                  1   \n",
       "5360                        1                  0                  0   \n",
       "245                         1                  0                  0   \n",
       "1820                        1                  0                  0   \n",
       "\n",
       "      PaymentMethod_Bank transfer (automatic)  \\\n",
       "6617                                        0   \n",
       "5589                                        0   \n",
       "5360                                        0   \n",
       "245                                         0   \n",
       "1820                                        0   \n",
       "\n",
       "      PaymentMethod_Credit card (automatic)  PaymentMethod_Electronic check  \\\n",
       "6617                                      1                               0   \n",
       "5589                                      1                               0   \n",
       "5360                                      0                               1   \n",
       "245                                       0                               1   \n",
       "1820                                      0                               0   \n",
       "\n",
       "      PaymentMethod_Mailed check  \n",
       "6617                           0  \n",
       "5589                           0  \n",
       "5360                           0  \n",
       "245                            0  \n",
       "1820                           1  \n",
       "\n",
       "[5 rows x 27 columns]"
      ]
     },
     "execution_count": 33,
     "metadata": {},
     "output_type": "execute_result"
    }
   ],
   "source": [
    "df2.sample(5)"
   ]
  },
  {
   "cell_type": "code",
   "execution_count": 34,
   "id": "cc1c85ea",
   "metadata": {},
   "outputs": [
    {
     "name": "stdout",
     "output_type": "stream",
     "text": [
      "gender: [1 0]\n",
      "SeniorCitizen: [0 1]\n",
      "Partner: [1 0]\n",
      "Dependents: [0 1]\n",
      "tenure: [0.         0.46478873 0.01408451 0.61971831 0.09859155 0.29577465\n",
      " 0.12676056 0.38028169 0.85915493 0.16901408 0.21126761 0.8028169\n",
      " 0.67605634 0.33802817 0.95774648 0.71830986 0.98591549 0.28169014\n",
      " 0.15492958 0.4084507  0.64788732 1.         0.22535211 0.36619718\n",
      " 0.05633803 0.63380282 0.14084507 0.97183099 0.87323944 0.5915493\n",
      " 0.1971831  0.83098592 0.23943662 0.91549296 0.11267606 0.02816901\n",
      " 0.42253521 0.69014085 0.88732394 0.77464789 0.08450704 0.57746479\n",
      " 0.47887324 0.66197183 0.3943662  0.90140845 0.52112676 0.94366197\n",
      " 0.43661972 0.76056338 0.50704225 0.49295775 0.56338028 0.07042254\n",
      " 0.04225352 0.45070423 0.92957746 0.30985915 0.78873239 0.84507042\n",
      " 0.18309859 0.26760563 0.73239437 0.54929577 0.81690141 0.32394366\n",
      " 0.6056338  0.25352113 0.74647887 0.70422535 0.35211268 0.53521127]\n",
      "PhoneService: [0 1]\n",
      "MultipleLines: [0 1]\n",
      "OnlineSecurity: [0 1]\n",
      "OnlineBackup: [1 0]\n",
      "DeviceProtection: [0 1]\n",
      "TechSupport: [0 1]\n",
      "StreamingTV: [0 1]\n",
      "StreamingMovies: [0 1]\n",
      "PaperlessBilling: [1 0]\n",
      "MonthlyCharges: [0.11542289 0.38507463 0.35422886 ... 0.44626866 0.25820896 0.60149254]\n",
      "TotalCharges: [0.0012751  0.21586661 0.01031041 ... 0.03780868 0.03321025 0.78764136]\n",
      "Churn: [0 1]\n",
      "InternetService_DSL: [1 0]\n",
      "InternetService_Fiber optic: [0 1]\n",
      "InternetService_No: [0 1]\n",
      "Contract_Month-to-month: [1 0]\n",
      "Contract_One year: [0 1]\n",
      "Contract_Two year: [0 1]\n",
      "PaymentMethod_Bank transfer (automatic): [0 1]\n",
      "PaymentMethod_Credit card (automatic): [0 1]\n",
      "PaymentMethod_Electronic check: [1 0]\n",
      "PaymentMethod_Mailed check: [0 1]\n"
     ]
    }
   ],
   "source": [
    "for column in df2:\n",
    "    print(f'{column}: {df2[column].unique()}')"
   ]
  },
  {
   "cell_type": "markdown",
   "id": "f80aa3d3",
   "metadata": {},
   "source": [
    "Now divinding the dataset in train adn test dataset."
   ]
  },
  {
   "cell_type": "code",
   "execution_count": 35,
   "id": "02bc869f",
   "metadata": {},
   "outputs": [],
   "source": [
    "x=df2.drop('Churn',axis='columns')\n",
    "y=df2[\"Churn\"]"
   ]
  },
  {
   "cell_type": "code",
   "execution_count": 36,
   "id": "a05cb491",
   "metadata": {},
   "outputs": [
    {
     "data": {
      "text/plain": [
       "((4922, 26), (2110, 26))"
      ]
     },
     "execution_count": 36,
     "metadata": {},
     "output_type": "execute_result"
    }
   ],
   "source": [
    "from sklearn.model_selection import train_test_split\n",
    "X_train,X_test,y_train,y_test=train_test_split(x,y,test_size=0.3,random_state=5)\n",
    "X_train.shape,X_test.shape"
   ]
  },
  {
   "cell_type": "markdown",
   "id": "c8b4931b",
   "metadata": {},
   "source": [
    "Training the model on GPU"
   ]
  },
  {
   "cell_type": "code",
   "execution_count": 37,
   "id": "fbb505d1",
   "metadata": {},
   "outputs": [
    {
     "name": "stdout",
     "output_type": "stream",
     "text": [
      "Epoch 1/50\n",
      "154/154 [==============================] - 2s 4ms/step - loss: 0.4905 - accuracy: 0.7798\n",
      "Epoch 2/50\n",
      "154/154 [==============================] - 1s 4ms/step - loss: 0.4213 - accuracy: 0.8039\n",
      "Epoch 3/50\n",
      "154/154 [==============================] - 1s 4ms/step - loss: 0.4137 - accuracy: 0.8029\n",
      "Epoch 4/50\n",
      "154/154 [==============================] - 1s 4ms/step - loss: 0.4111 - accuracy: 0.8080\n",
      "Epoch 5/50\n",
      "154/154 [==============================] - 1s 4ms/step - loss: 0.4086 - accuracy: 0.8058\n",
      "Epoch 6/50\n",
      "154/154 [==============================] - 1s 4ms/step - loss: 0.4062 - accuracy: 0.8060\n",
      "Epoch 7/50\n",
      "154/154 [==============================] - 1s 4ms/step - loss: 0.4049 - accuracy: 0.8080\n",
      "Epoch 8/50\n",
      "154/154 [==============================] - 1s 4ms/step - loss: 0.4036 - accuracy: 0.8113\n",
      "Epoch 9/50\n",
      "154/154 [==============================] - 1s 4ms/step - loss: 0.3995 - accuracy: 0.8121\n",
      "Epoch 10/50\n",
      "154/154 [==============================] - 1s 4ms/step - loss: 0.3980 - accuracy: 0.8119\n",
      "Epoch 11/50\n",
      "154/154 [==============================] - 1s 4ms/step - loss: 0.3987 - accuracy: 0.8121\n",
      "Epoch 12/50\n",
      "154/154 [==============================] - 1s 5ms/step - loss: 0.3969 - accuracy: 0.8131\n",
      "Epoch 13/50\n",
      "154/154 [==============================] - 1s 4ms/step - loss: 0.3954 - accuracy: 0.8123\n",
      "Epoch 14/50\n",
      "154/154 [==============================] - 1s 4ms/step - loss: 0.3953 - accuracy: 0.8098\n",
      "Epoch 15/50\n",
      "154/154 [==============================] - 1s 4ms/step - loss: 0.3929 - accuracy: 0.8147\n",
      "Epoch 16/50\n",
      "154/154 [==============================] - 1s 4ms/step - loss: 0.3936 - accuracy: 0.8145\n",
      "Epoch 17/50\n",
      "154/154 [==============================] - 1s 4ms/step - loss: 0.3904 - accuracy: 0.8161\n",
      "Epoch 18/50\n",
      "154/154 [==============================] - 1s 4ms/step - loss: 0.3901 - accuracy: 0.8161\n",
      "Epoch 19/50\n",
      "154/154 [==============================] - 1s 4ms/step - loss: 0.3895 - accuracy: 0.8147\n",
      "Epoch 20/50\n",
      "154/154 [==============================] - 1s 4ms/step - loss: 0.3872 - accuracy: 0.8180\n",
      "Epoch 21/50\n",
      "154/154 [==============================] - 1s 4ms/step - loss: 0.3865 - accuracy: 0.8200\n",
      "Epoch 22/50\n",
      "154/154 [==============================] - 1s 4ms/step - loss: 0.3851 - accuracy: 0.8198\n",
      "Epoch 23/50\n",
      "154/154 [==============================] - 1s 4ms/step - loss: 0.3867 - accuracy: 0.8178\n",
      "Epoch 24/50\n",
      "154/154 [==============================] - 1s 4ms/step - loss: 0.3836 - accuracy: 0.8188\n",
      "Epoch 25/50\n",
      "154/154 [==============================] - 1s 4ms/step - loss: 0.3829 - accuracy: 0.8210\n",
      "Epoch 26/50\n",
      "154/154 [==============================] - 1s 4ms/step - loss: 0.3813 - accuracy: 0.8222\n",
      "Epoch 27/50\n",
      "154/154 [==============================] - 1s 5ms/step - loss: 0.3803 - accuracy: 0.8226\n",
      "Epoch 28/50\n",
      "154/154 [==============================] - 1s 5ms/step - loss: 0.3802 - accuracy: 0.8214\n",
      "Epoch 29/50\n",
      "154/154 [==============================] - 1s 5ms/step - loss: 0.3801 - accuracy: 0.8218\n",
      "Epoch 30/50\n",
      "154/154 [==============================] - 1s 5ms/step - loss: 0.3767 - accuracy: 0.8218\n",
      "Epoch 31/50\n",
      "154/154 [==============================] - 1s 5ms/step - loss: 0.3773 - accuracy: 0.8218\n",
      "Epoch 32/50\n",
      "154/154 [==============================] - 1s 5ms/step - loss: 0.3763 - accuracy: 0.8234\n",
      "Epoch 33/50\n",
      "154/154 [==============================] - 1s 5ms/step - loss: 0.3778 - accuracy: 0.8253\n",
      "Epoch 34/50\n",
      "154/154 [==============================] - 1s 4ms/step - loss: 0.3734 - accuracy: 0.8267\n",
      "Epoch 35/50\n",
      "154/154 [==============================] - 1s 4ms/step - loss: 0.3744 - accuracy: 0.8216\n",
      "Epoch 36/50\n",
      "154/154 [==============================] - 1s 4ms/step - loss: 0.3736 - accuracy: 0.8263\n",
      "Epoch 37/50\n",
      "154/154 [==============================] - 1s 4ms/step - loss: 0.3722 - accuracy: 0.8234\n",
      "Epoch 38/50\n",
      "154/154 [==============================] - 1s 4ms/step - loss: 0.3711 - accuracy: 0.8257\n",
      "Epoch 39/50\n",
      "154/154 [==============================] - 1s 4ms/step - loss: 0.3690 - accuracy: 0.8289\n",
      "Epoch 40/50\n",
      "154/154 [==============================] - 1s 4ms/step - loss: 0.3729 - accuracy: 0.8275\n",
      "Epoch 41/50\n",
      "154/154 [==============================] - 1s 4ms/step - loss: 0.3681 - accuracy: 0.8257\n",
      "Epoch 42/50\n",
      "154/154 [==============================] - 1s 4ms/step - loss: 0.3660 - accuracy: 0.8316\n",
      "Epoch 43/50\n",
      "154/154 [==============================] - 1s 4ms/step - loss: 0.3651 - accuracy: 0.8283\n",
      "Epoch 44/50\n",
      "154/154 [==============================] - 1s 4ms/step - loss: 0.3648 - accuracy: 0.8281\n",
      "Epoch 45/50\n",
      "154/154 [==============================] - 1s 4ms/step - loss: 0.3694 - accuracy: 0.8269\n",
      "Epoch 46/50\n",
      "154/154 [==============================] - 1s 4ms/step - loss: 0.3617 - accuracy: 0.8304\n",
      "Epoch 47/50\n",
      "154/154 [==============================] - 1s 4ms/step - loss: 0.3629 - accuracy: 0.8265\n",
      "Epoch 48/50\n",
      "154/154 [==============================] - 1s 4ms/step - loss: 0.3619 - accuracy: 0.8308\n",
      "Epoch 49/50\n",
      "154/154 [==============================] - 1s 4ms/step - loss: 0.3627 - accuracy: 0.8310\n",
      "Epoch 50/50\n",
      "154/154 [==============================] - 1s 4ms/step - loss: 0.3620 - accuracy: 0.8269\n"
     ]
    }
   ],
   "source": [
    "import tensorflow as tf\n",
    "with tf.device('/GPU:0'):\n",
    "    import keras\n",
    "    model=keras.Sequential([\n",
    "        keras.layers.Dense(20,input_shape=(26,),activation='relu'),\n",
    "        keras.layers.Dense(15,activation='relu'),\n",
    "        keras.layers.Dense(10,activation='relu'),\n",
    "        keras.layers.Dense(5,activation='relu'),\n",
    "        keras.layers.Dense(1,activation='sigmoid')\n",
    "    ])\n",
    "\n",
    "    model.compile(\n",
    "        optimizer='adam',\n",
    "        loss='binary_crossentropy',\n",
    "        metrics=['accuracy'])\n",
    "\n",
    "    model.fit(X_train,y_train,epochs=50)\n"
   ]
  },
  {
   "cell_type": "code",
   "execution_count": 38,
   "id": "c15e6ca0",
   "metadata": {},
   "outputs": [
    {
     "name": "stdout",
     "output_type": "stream",
     "text": [
      "66/66 [==============================] - 0s 3ms/step - loss: 0.4786 - accuracy: 0.7687\n"
     ]
    },
    {
     "data": {
      "text/plain": [
       "[0.4785926938056946, 0.7687203884124756]"
      ]
     },
     "execution_count": 38,
     "metadata": {},
     "output_type": "execute_result"
    }
   ],
   "source": [
    "model.evaluate(X_test,y_test)"
   ]
  },
  {
   "cell_type": "code",
   "execution_count": 39,
   "id": "173530aa",
   "metadata": {},
   "outputs": [
    {
     "data": {
      "text/plain": [
       "array([[0.37156066],\n",
       "       [0.6224614 ],\n",
       "       [0.00332484],\n",
       "       [0.79135793],\n",
       "       [0.43048778]], dtype=float32)"
      ]
     },
     "execution_count": 39,
     "metadata": {},
     "output_type": "execute_result"
    }
   ],
   "source": [
    "yp=model.predict(X_test)\n",
    "yp[:5]"
   ]
  },
  {
   "cell_type": "markdown",
   "id": "08cff7b1",
   "metadata": {},
   "source": [
    "Convert the values which is less than 0.5 to 0 and above that to 1 for better understanding."
   ]
  },
  {
   "cell_type": "code",
   "execution_count": 40,
   "id": "f59b23a1",
   "metadata": {},
   "outputs": [],
   "source": [
    "y_pred=[]\n",
    "for i in yp:\n",
    "    if i>0.5:\n",
    "        y_pred.append(1)\n",
    "    else:\n",
    "        y_pred.append(0)"
   ]
  },
  {
   "cell_type": "code",
   "execution_count": 41,
   "id": "d7725048",
   "metadata": {},
   "outputs": [
    {
     "data": {
      "text/plain": [
       "[0, 1, 0, 1, 0]"
      ]
     },
     "execution_count": 41,
     "metadata": {},
     "output_type": "execute_result"
    }
   ],
   "source": [
    "y_pred[:5]"
   ]
  },
  {
   "cell_type": "code",
   "execution_count": 42,
   "id": "e47e6b46",
   "metadata": {},
   "outputs": [
    {
     "data": {
      "text/plain": [
       "2660    0\n",
       "744     0\n",
       "5579    1\n",
       "64      1\n",
       "3287    1\n",
       "Name: Churn, dtype: int64"
      ]
     },
     "execution_count": 42,
     "metadata": {},
     "output_type": "execute_result"
    }
   ],
   "source": [
    "y_test[:5]"
   ]
  },
  {
   "cell_type": "markdown",
   "id": "0459060e",
   "metadata": {},
   "source": [
    "Out of 5 times, 2 times our model is predicted correctly."
   ]
  },
  {
   "cell_type": "code",
   "execution_count": 43,
   "id": "1f82d891",
   "metadata": {},
   "outputs": [
    {
     "name": "stdout",
     "output_type": "stream",
     "text": [
      "              precision    recall  f1-score   support\n",
      "\n",
      "           0       0.80      0.89      0.85      1511\n",
      "           1       0.63      0.45      0.53       599\n",
      "\n",
      "    accuracy                           0.77      2110\n",
      "   macro avg       0.72      0.67      0.69      2110\n",
      "weighted avg       0.75      0.77      0.76      2110\n",
      "\n"
     ]
    }
   ],
   "source": [
    "from sklearn.metrics import confusion_matrix,classification_report\n",
    "print(classification_report(y_test,y_pred))"
   ]
  },
  {
   "cell_type": "markdown",
   "id": "513d921e",
   "metadata": {},
   "source": [
    "From the classification report we can see that precision recall aand f1 score si not good for churn values as 1.\n",
    "I think it is because of data imbalance. So we will try to resolve it."
   ]
  },
  {
   "cell_type": "code",
   "execution_count": 44,
   "id": "3d9a8773",
   "metadata": {},
   "outputs": [
    {
     "data": {
      "text/plain": [
       "Text(51.0, 0.5, 'Truth')"
      ]
     },
     "execution_count": 44,
     "metadata": {},
     "output_type": "execute_result"
    },
    {
     "data": {
      "image/png": "[encoded data removed]",
      "text/plain": [
       "<Figure size 576x432 with 2 Axes>"
      ]
     },
     "metadata": {
      "needs_background": "light"
     },
     "output_type": "display_data"
    }
   ],
   "source": [
    "import tensorflow as tf\n",
    "import seaborn as sns\n",
    "cm=tf.math.confusion_matrix(labels=y_test,predictions=y_pred)\n",
    "\n",
    "plt.figure(figsize=(8,6))\n",
    "sns.heatmap(cm,annot=True,fmt='d')\n",
    "plt.xlabel('Predicted')\n",
    "plt.ylabel('Truth')"
   ]
  },
  {
   "cell_type": "markdown",
   "id": "1e7f9a4c",
   "metadata": {},
   "source": [
    "I am using SMOTE libray to oversample the dataset and making total number of Curn value 0 and Churn of value 1 equal,\n",
    "by adding new rows whose value is 1."
   ]
  },
  {
   "cell_type": "code",
   "execution_count": 45,
   "id": "87b51d05",
   "metadata": {},
   "outputs": [],
   "source": [
    "from imblearn.over_sampling import SMOTE"
   ]
  },
  {
   "cell_type": "code",
   "execution_count": 46,
   "id": "e2937b45",
   "metadata": {},
   "outputs": [],
   "source": [
    "smote=SMOTE(sampling_strategy='minority')\n",
    "x_sm,y_sm=smote.fit_resample(x,y)"
   ]
  },
  {
   "cell_type": "code",
   "execution_count": 47,
   "id": "ffecd690",
   "metadata": {},
   "outputs": [],
   "source": [
    "X_train,X_test,y_train,y_test=train_test_split(x_sm,y_sm,random_state=42,test_size=0.3,stratify=y_sm)"
   ]
  },
  {
   "cell_type": "code",
   "execution_count": 48,
   "id": "38c0467a",
   "metadata": {},
   "outputs": [
    {
     "name": "stdout",
     "output_type": "stream",
     "text": [
      "Epoch 1/100\n",
      "226/226 [==============================] - 1s 5ms/step - loss: 0.5997 - accuracy: 0.6711\n",
      "Epoch 2/100\n",
      "226/226 [==============================] - 1s 4ms/step - loss: 0.4803 - accuracy: 0.7759\n",
      "Epoch 3/100\n",
      "226/226 [==============================] - 1s 4ms/step - loss: 0.4695 - accuracy: 0.7796\n",
      "Epoch 4/100\n",
      "226/226 [==============================] - 1s 4ms/step - loss: 0.4622 - accuracy: 0.7791\n",
      "Epoch 5/100\n",
      "226/226 [==============================] - 1s 4ms/step - loss: 0.4561 - accuracy: 0.7815\n",
      "Epoch 6/100\n",
      "226/226 [==============================] - 1s 4ms/step - loss: 0.4521 - accuracy: 0.7842\n",
      "Epoch 7/100\n",
      "226/226 [==============================] - 1s 5ms/step - loss: 0.4487 - accuracy: 0.7842\n",
      "Epoch 8/100\n",
      "226/226 [==============================] - 1s 4ms/step - loss: 0.4453 - accuracy: 0.7858\n",
      "Epoch 9/100\n",
      "226/226 [==============================] - 1s 3ms/step - loss: 0.4423 - accuracy: 0.7872\n",
      "Epoch 10/100\n",
      "226/226 [==============================] - 1s 3ms/step - loss: 0.4389 - accuracy: 0.7926\n",
      "Epoch 11/100\n",
      "226/226 [==============================] - 1s 3ms/step - loss: 0.4357 - accuracy: 0.7933\n",
      "Epoch 12/100\n",
      "226/226 [==============================] - 1s 4ms/step - loss: 0.4346 - accuracy: 0.7962\n",
      "Epoch 13/100\n",
      "226/226 [==============================] - 1s 4ms/step - loss: 0.4295 - accuracy: 0.7944\n",
      "Epoch 14/100\n",
      "226/226 [==============================] - 1s 4ms/step - loss: 0.4269 - accuracy: 0.8044\n",
      "Epoch 15/100\n",
      "226/226 [==============================] - 1s 4ms/step - loss: 0.4242 - accuracy: 0.7995\n",
      "Epoch 16/100\n",
      "226/226 [==============================] - 1s 4ms/step - loss: 0.4204 - accuracy: 0.8031\n",
      "Epoch 17/100\n",
      "226/226 [==============================] - 1s 5ms/step - loss: 0.4187 - accuracy: 0.8052\n",
      "Epoch 18/100\n",
      "226/226 [==============================] - 1s 5ms/step - loss: 0.4159 - accuracy: 0.8022\n",
      "Epoch 19/100\n",
      "226/226 [==============================] - 1s 4ms/step - loss: 0.4125 - accuracy: 0.8056\n",
      "Epoch 20/100\n",
      "226/226 [==============================] - 1s 5ms/step - loss: 0.4130 - accuracy: 0.8074\n",
      "Epoch 21/100\n",
      "226/226 [==============================] - 1s 4ms/step - loss: 0.4096 - accuracy: 0.8085\n",
      "Epoch 22/100\n",
      "226/226 [==============================] - 1s 4ms/step - loss: 0.4056 - accuracy: 0.8098\n",
      "Epoch 23/100\n",
      "226/226 [==============================] - 1s 5ms/step - loss: 0.4047 - accuracy: 0.8129\n",
      "Epoch 24/100\n",
      "226/226 [==============================] - 1s 4ms/step - loss: 0.4016 - accuracy: 0.8131\n",
      "Epoch 25/100\n",
      "226/226 [==============================] - 1s 4ms/step - loss: 0.3998 - accuracy: 0.8149\n",
      "Epoch 26/100\n",
      "226/226 [==============================] - 1s 4ms/step - loss: 0.3976 - accuracy: 0.8171\n",
      "Epoch 27/100\n",
      "226/226 [==============================] - 1s 5ms/step - loss: 0.3958 - accuracy: 0.8150\n",
      "Epoch 28/100\n",
      "226/226 [==============================] - 1s 4ms/step - loss: 0.3937 - accuracy: 0.8214\n",
      "Epoch 29/100\n",
      "226/226 [==============================] - 1s 4ms/step - loss: 0.3914 - accuracy: 0.8188\n",
      "Epoch 30/100\n",
      "226/226 [==============================] - 1s 4ms/step - loss: 0.3920 - accuracy: 0.8207\n",
      "Epoch 31/100\n",
      "226/226 [==============================] - 1s 4ms/step - loss: 0.3899 - accuracy: 0.8190\n",
      "Epoch 32/100\n",
      "226/226 [==============================] - 1s 4ms/step - loss: 0.3877 - accuracy: 0.8206\n",
      "Epoch 33/100\n",
      "226/226 [==============================] - 1s 4ms/step - loss: 0.3863 - accuracy: 0.8206\n",
      "Epoch 34/100\n",
      "226/226 [==============================] - 1s 4ms/step - loss: 0.3874 - accuracy: 0.8210\n",
      "Epoch 35/100\n",
      "226/226 [==============================] - 1s 4ms/step - loss: 0.3832 - accuracy: 0.8213\n",
      "Epoch 36/100\n",
      "226/226 [==============================] - 1s 4ms/step - loss: 0.3827 - accuracy: 0.8243\n",
      "Epoch 37/100\n",
      "226/226 [==============================] - 1s 6ms/step - loss: 0.3794 - accuracy: 0.8261\n",
      "Epoch 38/100\n",
      "226/226 [==============================] - 1s 5ms/step - loss: 0.3812 - accuracy: 0.8239\n",
      "Epoch 39/100\n",
      "226/226 [==============================] - 1s 4ms/step - loss: 0.3784 - accuracy: 0.8248\n",
      "Epoch 40/100\n",
      "226/226 [==============================] - 1s 5ms/step - loss: 0.3775 - accuracy: 0.8229\n",
      "Epoch 41/100\n",
      "226/226 [==============================] - 2s 7ms/step - loss: 0.3772 - accuracy: 0.8251\n",
      "Epoch 42/100\n",
      "226/226 [==============================] - 1s 5ms/step - loss: 0.3760 - accuracy: 0.8257\n",
      "Epoch 43/100\n",
      "226/226 [==============================] - 1s 4ms/step - loss: 0.3741 - accuracy: 0.8279\n",
      "Epoch 44/100\n",
      "226/226 [==============================] - 1s 4ms/step - loss: 0.3767 - accuracy: 0.8251\n",
      "Epoch 45/100\n",
      "226/226 [==============================] - 1s 4ms/step - loss: 0.3713 - accuracy: 0.8269\n",
      "Epoch 46/100\n",
      "226/226 [==============================] - 1s 3ms/step - loss: 0.3738 - accuracy: 0.8264\n",
      "Epoch 47/100\n",
      "226/226 [==============================] - 1s 3ms/step - loss: 0.3731 - accuracy: 0.8268\n",
      "Epoch 48/100\n",
      "226/226 [==============================] - 1s 4ms/step - loss: 0.3696 - accuracy: 0.8302\n",
      "Epoch 49/100\n",
      "226/226 [==============================] - 1s 4ms/step - loss: 0.3697 - accuracy: 0.8311\n",
      "Epoch 50/100\n",
      "226/226 [==============================] - 1s 4ms/step - loss: 0.3696 - accuracy: 0.8300\n",
      "Epoch 51/100\n",
      "226/226 [==============================] - 1s 4ms/step - loss: 0.3689 - accuracy: 0.8297\n",
      "Epoch 52/100\n",
      "226/226 [==============================] - 1s 5ms/step - loss: 0.3661 - accuracy: 0.8298\n",
      "Epoch 53/100\n",
      "226/226 [==============================] - 1s 4ms/step - loss: 0.3666 - accuracy: 0.8287\n",
      "Epoch 54/100\n",
      "226/226 [==============================] - 1s 4ms/step - loss: 0.3663 - accuracy: 0.8334\n",
      "Epoch 55/100\n",
      "226/226 [==============================] - 1s 4ms/step - loss: 0.3665 - accuracy: 0.8287\n",
      "Epoch 56/100\n",
      "226/226 [==============================] - 1s 4ms/step - loss: 0.3629 - accuracy: 0.8329\n",
      "Epoch 57/100\n",
      "226/226 [==============================] - 1s 4ms/step - loss: 0.3658 - accuracy: 0.8349\n",
      "Epoch 58/100\n",
      "226/226 [==============================] - 1s 4ms/step - loss: 0.3602 - accuracy: 0.8379\n",
      "Epoch 59/100\n",
      "226/226 [==============================] - 1s 4ms/step - loss: 0.3658 - accuracy: 0.8327\n",
      "Epoch 60/100\n",
      "226/226 [==============================] - 1s 4ms/step - loss: 0.3611 - accuracy: 0.8338\n",
      "Epoch 61/100\n",
      "226/226 [==============================] - 1s 4ms/step - loss: 0.3619 - accuracy: 0.8336\n",
      "Epoch 62/100\n",
      "226/226 [==============================] - 1s 4ms/step - loss: 0.3618 - accuracy: 0.8348\n",
      "Epoch 63/100\n",
      "226/226 [==============================] - 1s 4ms/step - loss: 0.3594 - accuracy: 0.8330\n",
      "Epoch 64/100\n",
      "226/226 [==============================] - 1s 4ms/step - loss: 0.3598 - accuracy: 0.8351\n",
      "Epoch 65/100\n",
      "226/226 [==============================] - 1s 4ms/step - loss: 0.3566 - accuracy: 0.8362\n",
      "Epoch 66/100\n",
      "226/226 [==============================] - 1s 4ms/step - loss: 0.3571 - accuracy: 0.8359\n",
      "Epoch 67/100\n",
      "226/226 [==============================] - 1s 4ms/step - loss: 0.3581 - accuracy: 0.8377\n",
      "Epoch 68/100\n",
      "226/226 [==============================] - 1s 4ms/step - loss: 0.3581 - accuracy: 0.8356\n",
      "Epoch 69/100\n",
      "226/226 [==============================] - 1s 4ms/step - loss: 0.3583 - accuracy: 0.8344\n",
      "Epoch 70/100\n",
      "226/226 [==============================] - 1s 4ms/step - loss: 0.3554 - accuracy: 0.8349\n",
      "Epoch 71/100\n",
      "226/226 [==============================] - 1s 4ms/step - loss: 0.3551 - accuracy: 0.8354\n",
      "Epoch 72/100\n",
      "226/226 [==============================] - 1s 4ms/step - loss: 0.3530 - accuracy: 0.8363\n",
      "Epoch 73/100\n",
      "226/226 [==============================] - 1s 4ms/step - loss: 0.3571 - accuracy: 0.8359\n",
      "Epoch 74/100\n",
      "226/226 [==============================] - 1s 4ms/step - loss: 0.3571 - accuracy: 0.8336\n",
      "Epoch 75/100\n",
      "226/226 [==============================] - 1s 4ms/step - loss: 0.3524 - accuracy: 0.8351\n",
      "Epoch 76/100\n",
      "226/226 [==============================] - 1s 5ms/step - loss: 0.3535 - accuracy: 0.8373\n",
      "Epoch 77/100\n",
      "226/226 [==============================] - 1s 4ms/step - loss: 0.3520 - accuracy: 0.8392\n",
      "Epoch 78/100\n",
      "226/226 [==============================] - 1s 4ms/step - loss: 0.3487 - accuracy: 0.8406\n",
      "Epoch 79/100\n",
      "226/226 [==============================] - 1s 4ms/step - loss: 0.3516 - accuracy: 0.8358\n",
      "Epoch 80/100\n",
      "226/226 [==============================] - 1s 4ms/step - loss: 0.3492 - accuracy: 0.8388\n",
      "Epoch 81/100\n",
      "226/226 [==============================] - 1s 4ms/step - loss: 0.3489 - accuracy: 0.8412\n",
      "Epoch 82/100\n",
      "226/226 [==============================] - 1s 4ms/step - loss: 0.3494 - accuracy: 0.8379\n",
      "Epoch 83/100\n",
      "226/226 [==============================] - 1s 4ms/step - loss: 0.3471 - accuracy: 0.8406\n",
      "Epoch 84/100\n",
      "226/226 [==============================] - 1s 4ms/step - loss: 0.3467 - accuracy: 0.8413\n",
      "Epoch 85/100\n",
      "226/226 [==============================] - 1s 4ms/step - loss: 0.3518 - accuracy: 0.8379\n",
      "Epoch 86/100\n",
      "226/226 [==============================] - 1s 4ms/step - loss: 0.3466 - accuracy: 0.8428\n",
      "Epoch 87/100\n",
      "226/226 [==============================] - 1s 4ms/step - loss: 0.3509 - accuracy: 0.8394\n",
      "Epoch 88/100\n",
      "226/226 [==============================] - 1s 4ms/step - loss: 0.3494 - accuracy: 0.8387\n",
      "Epoch 89/100\n",
      "226/226 [==============================] - 1s 4ms/step - loss: 0.3491 - accuracy: 0.8406\n",
      "Epoch 90/100\n",
      "226/226 [==============================] - 1s 4ms/step - loss: 0.3450 - accuracy: 0.8444\n",
      "Epoch 91/100\n",
      "226/226 [==============================] - 1s 4ms/step - loss: 0.3462 - accuracy: 0.8401\n",
      "Epoch 92/100\n",
      "226/226 [==============================] - 1s 4ms/step - loss: 0.3487 - accuracy: 0.8408\n",
      "Epoch 93/100\n",
      "226/226 [==============================] - 1s 4ms/step - loss: 0.3446 - accuracy: 0.8392\n",
      "Epoch 94/100\n",
      "226/226 [==============================] - 1s 4ms/step - loss: 0.3461 - accuracy: 0.8417\n",
      "Epoch 95/100\n",
      "226/226 [==============================] - 1s 4ms/step - loss: 0.3451 - accuracy: 0.8414\n",
      "Epoch 96/100\n",
      "226/226 [==============================] - 1s 4ms/step - loss: 0.3439 - accuracy: 0.8420\n",
      "Epoch 97/100\n",
      "226/226 [==============================] - 1s 4ms/step - loss: 0.3440 - accuracy: 0.8428\n",
      "Epoch 98/100\n",
      "226/226 [==============================] - 1s 4ms/step - loss: 0.3422 - accuracy: 0.8430\n",
      "Epoch 99/100\n",
      "226/226 [==============================] - 1s 4ms/step - loss: 0.3431 - accuracy: 0.8448\n",
      "Epoch 100/100\n",
      "226/226 [==============================] - 1s 4ms/step - loss: 0.3427 - accuracy: 0.8424\n"
     ]
    }
   ],
   "source": [
    "import tensorflow as tf\n",
    "with tf.device('/GPU:0'):\n",
    "    import keras\n",
    "    model=keras.Sequential([\n",
    "        keras.layers.Dense(20,input_shape=(26,),activation='relu'),\n",
    "        keras.layers.Dense(15,activation='relu'),\n",
    "        keras.layers.Dense(10,activation='relu'),\n",
    "        keras.layers.Dense(5,activation='relu'),\n",
    "        keras.layers.Dense(1,activation='sigmoid')\n",
    "    ])\n",
    "\n",
    "    model.compile(\n",
    "        optimizer='adam',\n",
    "        loss='binary_crossentropy',\n",
    "        metrics=['accuracy'])\n",
    "\n",
    "    model.fit(X_train,y_train,epochs=100)\n"
   ]
  },
  {
   "cell_type": "code",
   "execution_count": 49,
   "id": "d7695c46",
   "metadata": {},
   "outputs": [
    {
     "data": {
      "text/plain": [
       "array([[0.7703171 ],\n",
       "       [0.60340685],\n",
       "       [0.8357866 ],\n",
       "       [0.93418455],\n",
       "       [0.93170553]], dtype=float32)"
      ]
     },
     "execution_count": 49,
     "metadata": {},
     "output_type": "execute_result"
    }
   ],
   "source": [
    "yp=model.predict(X_test)\n",
    "yp[:5]"
   ]
  },
  {
   "cell_type": "code",
   "execution_count": 50,
   "id": "9d248bb5",
   "metadata": {},
   "outputs": [],
   "source": [
    "y_pred=[]\n",
    "for i in yp:\n",
    "    if i>0.5:\n",
    "        y_pred.append(1)\n",
    "    else:\n",
    "        y_pred.append(0)"
   ]
  },
  {
   "cell_type": "code",
   "execution_count": 51,
   "id": "46bf8a1a",
   "metadata": {},
   "outputs": [
    {
     "name": "stdout",
     "output_type": "stream",
     "text": [
      "              precision    recall  f1-score   support\n",
      "\n",
      "           0       0.83      0.76      0.79      1549\n",
      "           1       0.78      0.84      0.81      1549\n",
      "\n",
      "    accuracy                           0.80      3098\n",
      "   macro avg       0.80      0.80      0.80      3098\n",
      "weighted avg       0.80      0.80      0.80      3098\n",
      "\n"
     ]
    }
   ],
   "source": [
    "from sklearn.metrics import confusion_matrix,classification_report\n",
    "print(classification_report(y_test,y_pred))"
   ]
  },
  {
   "cell_type": "markdown",
   "id": "1802010b",
   "metadata": {},
   "source": [
    "Befor smoting\n",
    "\n",
    "               precision    recall  f1-score   support\n",
    "\n",
    "           0       0.80      0.89      0.85      1511\n",
    "           1       0.63      0.45      0.53       599\n",
    "\n",
    "    accuracy                           0.77      2110\n",
    "   macro avg       0.72      0.67      0.69      2110\n",
    "weighted avg       0.75      0.77      0.76      2110\n"
   ]
  },
  {
   "cell_type": "markdown",
   "id": "62857270",
   "metadata": {},
   "source": [
    "Now we can see the precision,recall and f1 has improved."
   ]
  },
  {
   "cell_type": "code",
   "execution_count": 52,
   "id": "4364bc5b",
   "metadata": {},
   "outputs": [],
   "source": [
    "from xgboost import XGBClassifier"
   ]
  },
  {
   "cell_type": "code",
   "execution_count": 53,
   "id": "bad67487",
   "metadata": {},
   "outputs": [
    {
     "name": "stdout",
     "output_type": "stream",
     "text": [
      "[20:53:20] WARNING: C:/Users/Administrator/workspace/xgboost-win64_release_1.5.1/src/learner.cc:1115: Starting in XGBoost 1.3.0, the default evaluation metric used with the objective 'binary:logistic' was changed from 'error' to 'logloss'. Explicitly set eval_metric if you'd like to restore the old behavior.\n"
     ]
    },
    {
     "name": "stderr",
     "output_type": "stream",
     "text": [
      "C:\\Users\\brago\\anaconda3\\lib\\site-packages\\xgboost\\sklearn.py:1224: UserWarning: The use of label encoder in XGBClassifier is deprecated and will be removed in a future release. To remove this warning, do the following: 1) Pass option use_label_encoder=False when constructing XGBClassifier object; and 2) Encode your labels (y) as integers starting with 0, i.e. 0, 1, 2, ..., [num_class - 1].\n",
      "  warnings.warn(label_encoder_deprecation_msg, UserWarning)\n"
     ]
    }
   ],
   "source": [
    "xgb=XGBClassifier()\n",
    "with tf.device('/GPU:0'):\n",
    "    xgb.fit(X_train,y_train)"
   ]
  },
  {
   "cell_type": "code",
   "execution_count": 54,
   "id": "fd777629",
   "metadata": {},
   "outputs": [
    {
     "data": {
      "text/plain": [
       "array([1, 1, 1, 1, 1], dtype=int64)"
      ]
     },
     "execution_count": 54,
     "metadata": {},
     "output_type": "execute_result"
    }
   ],
   "source": [
    "xgb_pred=xgb.predict(X_test)\n",
    "xgb_pred[:5]"
   ]
  },
  {
   "cell_type": "code",
   "execution_count": 56,
   "id": "60273c25",
   "metadata": {},
   "outputs": [
    {
     "name": "stdout",
     "output_type": "stream",
     "text": [
      "              precision    recall  f1-score   support\n",
      "\n",
      "           0       0.79      0.85      0.82      1445\n",
      "           1       0.86      0.80      0.83      1653\n",
      "\n",
      "    accuracy                           0.82      3098\n",
      "   macro avg       0.82      0.82      0.82      3098\n",
      "weighted avg       0.82      0.82      0.82      3098\n",
      "\n"
     ]
    }
   ],
   "source": [
    "print(classification_report(xgb_pred,y_test))"
   ]
  },
  {
   "cell_type": "code",
   "execution_count": 57,
   "id": "4ad28b10",
   "metadata": {},
   "outputs": [
    {
     "name": "stdout",
     "output_type": "stream",
     "text": [
      "0.80 accuracy score with standard deviation of 0.015556 \n"
     ]
    }
   ],
   "source": [
    "from sklearn.model_selection import cross_val_score\n",
    "from sklearn.linear_model import SGDClassifier\n",
    "with tf.device('/GPU:0'):\n",
    "    sgd=cross_val_score(SGDClassifier(),X_train,y_train,cv=5)\n",
    "    print(\"%0.2f accuracy score with standard deviation of %2f \"% (sgd.mean(),sgd.std()))"
   ]
  },
  {
   "cell_type": "code",
   "execution_count": null,
   "id": "cad5517e",
   "metadata": {},
   "outputs": [],
   "source": [
    "Conclusion \n",
    "\n",
    "After training the model over three models,\n",
    "XGBoostClassifier, ANN and SGDClassifier, XGBoost has given the best accuracy."
   ]
  }
 ],
 "metadata": {
  "kernelspec": {
   "display_name": "Python 3 (ipykernel)",
   "language": "python",
   "name": "python3"
  },
  "language_info": {
   "codemirror_mode": {
    "name": "ipython",
    "version": 3
   },
   "file_extension": ".py",
   "mimetype": "text/x-python",
   "name": "python",
   "nbconvert_exporter": "python",
   "pygments_lexer": "ipython3",
   "version": "3.9.7"
  }
 },
 "nbformat": 4,
 "nbformat_minor": 5
}
